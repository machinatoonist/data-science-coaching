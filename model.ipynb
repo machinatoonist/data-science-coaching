{
 "cells": [
  {
   "cell_type": "code",
   "execution_count": 1,
   "id": "46484ec7-3b7a-4f29-9552-93e5a73c3458",
   "metadata": {},
   "outputs": [],
   "source": [
    "import pandas as pd\n",
    "import matplotlib.pyplot as plt"
   ]
  },
  {
   "cell_type": "code",
   "execution_count": null,
   "id": "71a59f68-b0fd-4ade-84a9-ee70649bd45f",
   "metadata": {},
   "outputs": [],
   "source": [
    "%%time\n",
    "df = pd.read_parquet(\"df_lemma.pq\")\n",
    "#df = pd.read_csv(\"samp.csv\")"
   ]
  },
  {
   "cell_type": "code",
   "execution_count": 4,
   "id": "6d1fa08b-e6ba-4eca-ba6c-e1b6ec59a0bc",
   "metadata": {},
   "outputs": [
    {
     "data": {
      "text/html": [
       "<div>\n",
       "<style scoped>\n",
       "    .dataframe tbody tr th:only-of-type {\n",
       "        vertical-align: middle;\n",
       "    }\n",
       "\n",
       "    .dataframe tbody tr th {\n",
       "        vertical-align: top;\n",
       "    }\n",
       "\n",
       "    .dataframe thead th {\n",
       "        text-align: right;\n",
       "    }\n",
       "</style>\n",
       "<table border=\"1\" class=\"dataframe\">\n",
       "  <thead>\n",
       "    <tr style=\"text-align: right;\">\n",
       "      <th></th>\n",
       "      <th>Unnamed: 0</th>\n",
       "      <th>author</th>\n",
       "      <th>date</th>\n",
       "      <th>domain</th>\n",
       "      <th>title</th>\n",
       "      <th>content</th>\n",
       "      <th>datatype</th>\n",
       "      <th>companies</th>\n",
       "      <th>locations</th>\n",
       "      <th>sdgs</th>\n",
       "      <th>clean_content</th>\n",
       "      <th>content_lower</th>\n",
       "      <th>content_tokenized</th>\n",
       "      <th>no_stopwords</th>\n",
       "      <th>content_stemmed</th>\n",
       "      <th>content_lemmatized</th>\n",
       "    </tr>\n",
       "  </thead>\n",
       "  <tbody>\n",
       "    <tr>\n",
       "      <th>0</th>\n",
       "      <td>389108</td>\n",
       "      <td>None</td>\n",
       "      <td>2020-01-02</td>\n",
       "      <td>digitaljournal</td>\n",
       "      <td>Looking into the truth about modern workplace ...</td>\n",
       "      <td>['Hi, what are you looking for?', 'By', 'Publi...</td>\n",
       "      <td>general</td>\n",
       "      <td>[]</td>\n",
       "      <td>['UnitedKingdomofGreatBritainandNorthernIreland']</td>\n",
       "      <td>['PeaceJusticeAndStrongInstitutions', 'Climate...</td>\n",
       "      <td>Hi what are you looking for By Published Workp...</td>\n",
       "      <td>hi what are you looking for by published workp...</td>\n",
       "      <td>[hi, what, are, you, looking, for, by, publish...</td>\n",
       "      <td>[hi, looking, published, workplaces, transform...</td>\n",
       "      <td>[hi, look, publish, workplac, transform, accor...</td>\n",
       "      <td>[hi, looking, published, workplace, transforme...</td>\n",
       "    </tr>\n",
       "    <tr>\n",
       "      <th>1</th>\n",
       "      <td>119150</td>\n",
       "      <td>None</td>\n",
       "      <td>2020-01-02</td>\n",
       "      <td>bnnbloomberg</td>\n",
       "      <td>Hexo refiles financial statements</td>\n",
       "      <td>['New York reported a record 90,132 new Covid-...</td>\n",
       "      <td>general</td>\n",
       "      <td>[]</td>\n",
       "      <td>[]</td>\n",
       "      <td>['ReduceInequalities']</td>\n",
       "      <td>New York reported a record 90132 new Covid19 c...</td>\n",
       "      <td>new york reported a record 90132 new covid19 c...</td>\n",
       "      <td>[new, york, reported, a, record, 90132, new, c...</td>\n",
       "      <td>[new, york, reported, record, 90132, new, covi...</td>\n",
       "      <td>[new, york, report, record, 90132, new, covid1...</td>\n",
       "      <td>[new, york, reported, record, 90132, new, covi...</td>\n",
       "    </tr>\n",
       "    <tr>\n",
       "      <th>2</th>\n",
       "      <td>389111</td>\n",
       "      <td>None</td>\n",
       "      <td>2020-01-02</td>\n",
       "      <td>digitaljournal</td>\n",
       "      <td>Japan raid, Turkey arrests in widening Ghosn p...</td>\n",
       "      <td>['Hi, what are you looking for?', 'By', 'Publi...</td>\n",
       "      <td>general</td>\n",
       "      <td>[]</td>\n",
       "      <td>['Lebanon', 'RussianFederation', 'Japan', 'Tur...</td>\n",
       "      <td>['PeaceJusticeAndStrongInstitutions', 'GoodHea...</td>\n",
       "      <td>Hi what are you looking for By Published Offic...</td>\n",
       "      <td>hi what are you looking for by published offic...</td>\n",
       "      <td>[hi, what, are, you, looking, for, by, publish...</td>\n",
       "      <td>[hi, looking, published, officials, thursday, ...</td>\n",
       "      <td>[hi, look, publish, offici, thursday, raid, to...</td>\n",
       "      <td>[hi, looking, published, official, thursday, r...</td>\n",
       "    </tr>\n",
       "    <tr>\n",
       "      <th>3</th>\n",
       "      <td>389110</td>\n",
       "      <td>None</td>\n",
       "      <td>2020-01-02</td>\n",
       "      <td>digitaljournal</td>\n",
       "      <td>Pope's bodyguards criticised over slapping inc...</td>\n",
       "      <td>['Hi, what are you looking for?', 'By', 'Publi...</td>\n",
       "      <td>general</td>\n",
       "      <td>['TwitterInc']</td>\n",
       "      <td>['Italy']</td>\n",
       "      <td>[]</td>\n",
       "      <td>Hi what are you looking for By Published Pope ...</td>\n",
       "      <td>hi what are you looking for by published pope ...</td>\n",
       "      <td>[hi, what, are, you, looking, for, by, publish...</td>\n",
       "      <td>[hi, looking, published, pope, franciss, attem...</td>\n",
       "      <td>[hi, look, publish, pope, franciss, attempt, w...</td>\n",
       "      <td>[hi, looking, published, pope, franciss, attem...</td>\n",
       "    </tr>\n",
       "    <tr>\n",
       "      <th>4</th>\n",
       "      <td>389113</td>\n",
       "      <td>None</td>\n",
       "      <td>2020-01-02</td>\n",
       "      <td>digitaljournal</td>\n",
       "      <td>Lebanon denies president welcomed fugitive Ghosn</td>\n",
       "      <td>['Hi, what are you looking for?', 'By', 'Publi...</td>\n",
       "      <td>general</td>\n",
       "      <td>[]</td>\n",
       "      <td>['China', 'Lebanon', 'Ukraine', 'Japan']</td>\n",
       "      <td>['PeaceJusticeAndStrongInstitutions']</td>\n",
       "      <td>Hi what are you looking for By Published The L...</td>\n",
       "      <td>hi what are you looking for by published the l...</td>\n",
       "      <td>[hi, what, are, you, looking, for, by, publish...</td>\n",
       "      <td>[hi, looking, published, lebanese, presidency,...</td>\n",
       "      <td>[hi, look, publish, lebanes, presid, thursday,...</td>\n",
       "      <td>[hi, looking, published, lebanese, presidency,...</td>\n",
       "    </tr>\n",
       "  </tbody>\n",
       "</table>\n",
       "</div>"
      ],
      "text/plain": [
       "   Unnamed: 0 author        date          domain  \\\n",
       "0      389108   None  2020-01-02  digitaljournal   \n",
       "1      119150   None  2020-01-02    bnnbloomberg   \n",
       "2      389111   None  2020-01-02  digitaljournal   \n",
       "3      389110   None  2020-01-02  digitaljournal   \n",
       "4      389113   None  2020-01-02  digitaljournal   \n",
       "\n",
       "                                               title  \\\n",
       "0  Looking into the truth about modern workplace ...   \n",
       "1                  Hexo refiles financial statements   \n",
       "2  Japan raid, Turkey arrests in widening Ghosn p...   \n",
       "3  Pope's bodyguards criticised over slapping inc...   \n",
       "4   Lebanon denies president welcomed fugitive Ghosn   \n",
       "\n",
       "                                             content datatype       companies  \\\n",
       "0  ['Hi, what are you looking for?', 'By', 'Publi...  general              []   \n",
       "1  ['New York reported a record 90,132 new Covid-...  general              []   \n",
       "2  ['Hi, what are you looking for?', 'By', 'Publi...  general              []   \n",
       "3  ['Hi, what are you looking for?', 'By', 'Publi...  general  ['TwitterInc']   \n",
       "4  ['Hi, what are you looking for?', 'By', 'Publi...  general              []   \n",
       "\n",
       "                                           locations  \\\n",
       "0  ['UnitedKingdomofGreatBritainandNorthernIreland']   \n",
       "1                                                 []   \n",
       "2  ['Lebanon', 'RussianFederation', 'Japan', 'Tur...   \n",
       "3                                          ['Italy']   \n",
       "4           ['China', 'Lebanon', 'Ukraine', 'Japan']   \n",
       "\n",
       "                                                sdgs  \\\n",
       "0  ['PeaceJusticeAndStrongInstitutions', 'Climate...   \n",
       "1                             ['ReduceInequalities']   \n",
       "2  ['PeaceJusticeAndStrongInstitutions', 'GoodHea...   \n",
       "3                                                 []   \n",
       "4              ['PeaceJusticeAndStrongInstitutions']   \n",
       "\n",
       "                                       clean_content  \\\n",
       "0  Hi what are you looking for By Published Workp...   \n",
       "1  New York reported a record 90132 new Covid19 c...   \n",
       "2  Hi what are you looking for By Published Offic...   \n",
       "3  Hi what are you looking for By Published Pope ...   \n",
       "4  Hi what are you looking for By Published The L...   \n",
       "\n",
       "                                       content_lower  \\\n",
       "0  hi what are you looking for by published workp...   \n",
       "1  new york reported a record 90132 new covid19 c...   \n",
       "2  hi what are you looking for by published offic...   \n",
       "3  hi what are you looking for by published pope ...   \n",
       "4  hi what are you looking for by published the l...   \n",
       "\n",
       "                                   content_tokenized  \\\n",
       "0  [hi, what, are, you, looking, for, by, publish...   \n",
       "1  [new, york, reported, a, record, 90132, new, c...   \n",
       "2  [hi, what, are, you, looking, for, by, publish...   \n",
       "3  [hi, what, are, you, looking, for, by, publish...   \n",
       "4  [hi, what, are, you, looking, for, by, publish...   \n",
       "\n",
       "                                        no_stopwords  \\\n",
       "0  [hi, looking, published, workplaces, transform...   \n",
       "1  [new, york, reported, record, 90132, new, covi...   \n",
       "2  [hi, looking, published, officials, thursday, ...   \n",
       "3  [hi, looking, published, pope, franciss, attem...   \n",
       "4  [hi, looking, published, lebanese, presidency,...   \n",
       "\n",
       "                                     content_stemmed  \\\n",
       "0  [hi, look, publish, workplac, transform, accor...   \n",
       "1  [new, york, report, record, 90132, new, covid1...   \n",
       "2  [hi, look, publish, offici, thursday, raid, to...   \n",
       "3  [hi, look, publish, pope, franciss, attempt, w...   \n",
       "4  [hi, look, publish, lebanes, presid, thursday,...   \n",
       "\n",
       "                                  content_lemmatized  \n",
       "0  [hi, looking, published, workplace, transforme...  \n",
       "1  [new, york, reported, record, 90132, new, covi...  \n",
       "2  [hi, looking, published, official, thursday, r...  \n",
       "3  [hi, looking, published, pope, franciss, attem...  \n",
       "4  [hi, looking, published, lebanese, presidency,...  "
      ]
     },
     "execution_count": 4,
     "metadata": {},
     "output_type": "execute_result"
    }
   ],
   "source": [
    "df.head()"
   ]
  },
  {
   "cell_type": "code",
   "execution_count": 4,
   "id": "aba98ee4-ccbb-45ae-83ee-17af3a03ddad",
   "metadata": {},
   "outputs": [],
   "source": [
    "df_samp = df.loc[:,[\"title\", \"date\"]].sample(100000).copy()"
   ]
  },
  {
   "cell_type": "code",
   "execution_count": 5,
   "id": "dcb3f98f-4908-4059-8fc0-3243c441fe81",
   "metadata": {},
   "outputs": [],
   "source": [
    "df_samp = df.loc[:,[\"title\", \"date\"]].copy()"
   ]
  },
  {
   "cell_type": "code",
   "execution_count": 6,
   "id": "26c99e78-fa32-4892-b4a6-a470b8b633d3",
   "metadata": {},
   "outputs": [],
   "source": [
    "#df_samp.to_csv(\"samp.csv\",index=False)"
   ]
  },
  {
   "cell_type": "code",
   "execution_count": 7,
   "id": "67be64b6-19d1-478a-907d-d29d8cfd36a8",
   "metadata": {},
   "outputs": [
    {
     "data": {
      "text/html": [
       "<div>\n",
       "<style scoped>\n",
       "    .dataframe tbody tr th:only-of-type {\n",
       "        vertical-align: middle;\n",
       "    }\n",
       "\n",
       "    .dataframe tbody tr th {\n",
       "        vertical-align: top;\n",
       "    }\n",
       "\n",
       "    .dataframe thead th {\n",
       "        text-align: right;\n",
       "    }\n",
       "</style>\n",
       "<table border=\"1\" class=\"dataframe\">\n",
       "  <thead>\n",
       "    <tr style=\"text-align: right;\">\n",
       "      <th></th>\n",
       "      <th>title</th>\n",
       "      <th>date</th>\n",
       "    </tr>\n",
       "  </thead>\n",
       "  <tbody>\n",
       "    <tr>\n",
       "      <th>0</th>\n",
       "      <td>Looking into the truth about modern workplace ...</td>\n",
       "      <td>2020-01-02</td>\n",
       "    </tr>\n",
       "    <tr>\n",
       "      <th>1</th>\n",
       "      <td>Hexo refiles financial statements</td>\n",
       "      <td>2020-01-02</td>\n",
       "    </tr>\n",
       "    <tr>\n",
       "      <th>2</th>\n",
       "      <td>Japan raid, Turkey arrests in widening Ghosn p...</td>\n",
       "      <td>2020-01-02</td>\n",
       "    </tr>\n",
       "    <tr>\n",
       "      <th>3</th>\n",
       "      <td>Pope's bodyguards criticised over slapping inc...</td>\n",
       "      <td>2020-01-02</td>\n",
       "    </tr>\n",
       "    <tr>\n",
       "      <th>4</th>\n",
       "      <td>Lebanon denies president welcomed fugitive Ghosn</td>\n",
       "      <td>2020-01-02</td>\n",
       "    </tr>\n",
       "  </tbody>\n",
       "</table>\n",
       "</div>"
      ],
      "text/plain": [
       "                                               title        date\n",
       "0  Looking into the truth about modern workplace ...  2020-01-02\n",
       "1                  Hexo refiles financial statements  2020-01-02\n",
       "2  Japan raid, Turkey arrests in widening Ghosn p...  2020-01-02\n",
       "3  Pope's bodyguards criticised over slapping inc...  2020-01-02\n",
       "4   Lebanon denies president welcomed fugitive Ghosn  2020-01-02"
      ]
     },
     "execution_count": 7,
     "metadata": {},
     "output_type": "execute_result"
    }
   ],
   "source": [
    "df_samp.head()"
   ]
  },
  {
   "cell_type": "code",
   "execution_count": 1,
   "id": "8353998c-6dc3-4465-924c-7c8817d93724",
   "metadata": {},
   "outputs": [
    {
     "name": "stderr",
     "output_type": "stream",
     "text": [
      "/opt/conda/envs/nvtabular_dev_11.2/lib/python3.8/site-packages/tqdm/auto.py:22: TqdmWarning: IProgress not found. Please update jupyter and ipywidgets. See https://ipywidgets.readthedocs.io/en/stable/user_install.html\n",
      "  from .autonotebook import tqdm as notebook_tqdm\n"
     ]
    }
   ],
   "source": [
    "from transformers import AutoTokenizer, AutoModelForTokenClassification\n",
    "\n",
    "tokenizer = AutoTokenizer.from_pretrained(\"dslim/bert-base-NER\")\n",
    "\n",
    "model = AutoModelForTokenClassification.from_pretrained(\"dslim/bert-base-NER\")"
   ]
  },
  {
   "cell_type": "code",
   "execution_count": 4,
   "id": "74c30f93-721e-426f-b959-eb2985a0accf",
   "metadata": {},
   "outputs": [
    {
     "data": {
      "text/plain": [
       "['I', 'like', 'this', 'movie', 'very', 'much']"
      ]
     },
     "execution_count": 4,
     "metadata": {},
     "output_type": "execute_result"
    }
   ],
   "source": [
    "tokenizer.tokenize(\"I like this movie very much\")"
   ]
  },
  {
   "cell_type": "code",
   "execution_count": null,
   "id": "7469dd64-caba-49b3-bd2b-ce1b44a1e78c",
   "metadata": {},
   "outputs": [],
   "source": []
  },
  {
   "cell_type": "code",
   "execution_count": 2,
   "id": "b8780341-58cf-40b5-ab0b-abf6714269b7",
   "metadata": {},
   "outputs": [
    {
     "data": {
      "text/plain": [
       "{'input_ids': [101, 146, 1176, 1142, 2523, 102], 'token_type_ids': [0, 0, 0, 0, 0, 0], 'attention_mask': [1, 1, 1, 1, 1, 1]}"
      ]
     },
     "execution_count": 2,
     "metadata": {},
     "output_type": "execute_result"
    }
   ],
   "source": [
    "tokenizer(\"I like this movie\")"
   ]
  },
  {
   "attachments": {
    "d666fe9b-b1af-4296-9b48-e20b1884d6a4.png": {
     "image/png": "[encoded data removed]"
    }
   },
   "cell_type": "markdown",
   "id": "cf3ee474-b126-4c5c-b2a6-5ccd62df8e5f",
   "metadata": {},
   "source": [
    "![image.png](attachment:d666fe9b-b1af-4296-9b48-e20b1884d6a4.png)"
   ]
  },
  {
   "cell_type": "code",
   "execution_count": 9,
   "id": "6565d6bb-a78c-4bd1-ab99-98b778bdc3d7",
   "metadata": {},
   "outputs": [],
   "source": [
    "from transformers import AutoTokenizer, AutoModelForTokenClassification\n",
    "from transformers import pipeline\n",
    "\n",
    "tokenizer = AutoTokenizer.from_pretrained(\"dslim/bert-base-NER\")\n",
    "model = AutoModelForTokenClassification.from_pretrained(\"dslim/bert-base-NER\")\n",
    "\n",
    "nlp = pipeline(\"ner\", model=model, tokenizer=tokenizer)\n",
    "example = \"My name is Wolfgang and I live in Berlin\""
   ]
  },
  {
   "cell_type": "code",
   "execution_count": 10,
   "id": "2efbeeb0-2cab-4a75-a491-6d8ff50d196d",
   "metadata": {},
   "outputs": [
    {
     "name": "stdout",
     "output_type": "stream",
     "text": [
      "[{'entity': 'B-PER', 'score': 0.9990139, 'index': 4, 'word': 'Wolfgang', 'start': 11, 'end': 19}, {'entity': 'B-LOC', 'score': 0.999645, 'index': 9, 'word': 'Berlin', 'start': 34, 'end': 40}]\n",
      "CPU times: user 312 ms, sys: 12.1 ms, total: 324 ms\n",
      "Wall time: 529 ms\n"
     ]
    }
   ],
   "source": [
    "%%time\n",
    "ner_results = nlp(example)\n",
    "print(ner_results)"
   ]
  },
  {
   "cell_type": "code",
   "execution_count": 11,
   "id": "5970ca5e-b5b2-4aa3-a2ec-f440363e5a24",
   "metadata": {},
   "outputs": [],
   "source": [
    "# %%time\n",
    "# res = nlp(list(df_samp[\"title\"].values))"
   ]
  },
  {
   "cell_type": "code",
   "execution_count": null,
   "id": "81b06c38-19d5-4659-82c7-30754ae72def",
   "metadata": {},
   "outputs": [],
   "source": [
    "# %%time\n",
    "# df_samp[\"ner\"] = df_samp[\"title\"].apply(nlp)"
   ]
  },
  {
   "cell_type": "code",
   "execution_count": 12,
   "id": "684460c6-a42b-49d1-a855-7b125b451b34",
   "metadata": {},
   "outputs": [
    {
     "data": {
      "text/html": [
       "<div>\n",
       "<style scoped>\n",
       "    .dataframe tbody tr th:only-of-type {\n",
       "        vertical-align: middle;\n",
       "    }\n",
       "\n",
       "    .dataframe tbody tr th {\n",
       "        vertical-align: top;\n",
       "    }\n",
       "\n",
       "    .dataframe thead th {\n",
       "        text-align: right;\n",
       "    }\n",
       "</style>\n",
       "<table border=\"1\" class=\"dataframe\">\n",
       "  <thead>\n",
       "    <tr style=\"text-align: right;\">\n",
       "      <th></th>\n",
       "      <th>title</th>\n",
       "      <th>date</th>\n",
       "    </tr>\n",
       "  </thead>\n",
       "  <tbody>\n",
       "    <tr>\n",
       "      <th>0</th>\n",
       "      <td>Looking into the truth about modern workplace ...</td>\n",
       "      <td>2020-01-02</td>\n",
       "    </tr>\n",
       "    <tr>\n",
       "      <th>1</th>\n",
       "      <td>Hexo refiles financial statements</td>\n",
       "      <td>2020-01-02</td>\n",
       "    </tr>\n",
       "    <tr>\n",
       "      <th>2</th>\n",
       "      <td>Japan raid, Turkey arrests in widening Ghosn p...</td>\n",
       "      <td>2020-01-02</td>\n",
       "    </tr>\n",
       "    <tr>\n",
       "      <th>3</th>\n",
       "      <td>Pope's bodyguards criticised over slapping inc...</td>\n",
       "      <td>2020-01-02</td>\n",
       "    </tr>\n",
       "    <tr>\n",
       "      <th>4</th>\n",
       "      <td>Lebanon denies president welcomed fugitive Ghosn</td>\n",
       "      <td>2020-01-02</td>\n",
       "    </tr>\n",
       "    <tr>\n",
       "      <th>...</th>\n",
       "      <td>...</td>\n",
       "      <td>...</td>\n",
       "    </tr>\n",
       "    <tr>\n",
       "      <th>477546</th>\n",
       "      <td>Improved models of care for cancer survivors</td>\n",
       "      <td>2022-04-16</td>\n",
       "    </tr>\n",
       "    <tr>\n",
       "      <th>477547</th>\n",
       "      <td>Cracks in the foundation: how COVID-19 showed ...</td>\n",
       "      <td>2022-04-16</td>\n",
       "    </tr>\n",
       "    <tr>\n",
       "      <th>477548</th>\n",
       "      <td>Bragar Eagel &amp; Squire, P.C.</td>\n",
       "      <td>2022-04-18</td>\n",
       "    </tr>\n",
       "    <tr>\n",
       "      <th>477549</th>\n",
       "      <td>TP Minds Americas returns to the LIVE stage th...</td>\n",
       "      <td>2022-04-18</td>\n",
       "    </tr>\n",
       "    <tr>\n",
       "      <th>477550</th>\n",
       "      <td>Argus Oil Products 2022. Global Markets and CIS</td>\n",
       "      <td>2022-04-19</td>\n",
       "    </tr>\n",
       "  </tbody>\n",
       "</table>\n",
       "<p>477551 rows × 2 columns</p>\n",
       "</div>"
      ],
      "text/plain": [
       "                                                    title        date\n",
       "0       Looking into the truth about modern workplace ...  2020-01-02\n",
       "1                       Hexo refiles financial statements  2020-01-02\n",
       "2       Japan raid, Turkey arrests in widening Ghosn p...  2020-01-02\n",
       "3       Pope's bodyguards criticised over slapping inc...  2020-01-02\n",
       "4        Lebanon denies president welcomed fugitive Ghosn  2020-01-02\n",
       "...                                                   ...         ...\n",
       "477546       Improved models of care for cancer survivors  2022-04-16\n",
       "477547  Cracks in the foundation: how COVID-19 showed ...  2022-04-16\n",
       "477548                        Bragar Eagel & Squire, P.C.  2022-04-18\n",
       "477549  TP Minds Americas returns to the LIVE stage th...  2022-04-18\n",
       "477550    Argus Oil Products 2022. Global Markets and CIS  2022-04-19\n",
       "\n",
       "[477551 rows x 2 columns]"
      ]
     },
     "execution_count": 12,
     "metadata": {},
     "output_type": "execute_result"
    }
   ],
   "source": [
    "df_samp"
   ]
  },
  {
   "cell_type": "code",
   "execution_count": 53,
   "id": "c898c3cc-32df-48b8-b944-e26f7281f0a6",
   "metadata": {},
   "outputs": [
    {
     "data": {
      "text/plain": [
       "'2020-11-23'"
      ]
     },
     "execution_count": 53,
     "metadata": {},
     "output_type": "execute_result"
    }
   ],
   "source": [
    "df_samp.iloc[0,-1]"
   ]
  },
  {
   "cell_type": "code",
   "execution_count": 54,
   "id": "36f1ad28-b0e7-4aa3-a40d-dcd2e6a728de",
   "metadata": {},
   "outputs": [
    {
     "data": {
      "text/plain": [
       "1"
      ]
     },
     "execution_count": 54,
     "metadata": {},
     "output_type": "execute_result"
    }
   ],
   "source": [
    "1"
   ]
  },
  {
   "cell_type": "code",
   "execution_count": 9,
   "id": "fdf6d6c2-f0a9-4299-b8df-28632cdb7ee6",
   "metadata": {},
   "outputs": [],
   "source": [
    "# !pip3 install datasets"
   ]
  },
  {
   "cell_type": "code",
   "execution_count": 10,
   "id": "0f383254-0015-4d33-9846-ea4679f4e219",
   "metadata": {},
   "outputs": [
    {
     "data": {
      "text/html": [
       "<div>\n",
       "<style scoped>\n",
       "    .dataframe tbody tr th:only-of-type {\n",
       "        vertical-align: middle;\n",
       "    }\n",
       "\n",
       "    .dataframe tbody tr th {\n",
       "        vertical-align: top;\n",
       "    }\n",
       "\n",
       "    .dataframe thead th {\n",
       "        text-align: right;\n",
       "    }\n",
       "</style>\n",
       "<table border=\"1\" class=\"dataframe\">\n",
       "  <thead>\n",
       "    <tr style=\"text-align: right;\">\n",
       "      <th></th>\n",
       "      <th>title</th>\n",
       "      <th>date</th>\n",
       "    </tr>\n",
       "  </thead>\n",
       "  <tbody>\n",
       "    <tr>\n",
       "      <th>48552</th>\n",
       "      <td>Both naive and memory B cells respond to flu v...</td>\n",
       "      <td>2020-09-16</td>\n",
       "    </tr>\n",
       "    <tr>\n",
       "      <th>31476</th>\n",
       "      <td>Executive order Trump claimed would prevent ev...</td>\n",
       "      <td>2020-08-13</td>\n",
       "    </tr>\n",
       "    <tr>\n",
       "      <th>56309</th>\n",
       "      <td>Thai Union surges as tuna and toilet paper top...</td>\n",
       "      <td>2020-03-20</td>\n",
       "    </tr>\n",
       "    <tr>\n",
       "      <th>32244</th>\n",
       "      <td>What Will Oil Prices Do After The Coronavirus?</td>\n",
       "      <td>2020-02-16</td>\n",
       "    </tr>\n",
       "    <tr>\n",
       "      <th>46960</th>\n",
       "      <td>Indonesian students balance on tree branches t...</td>\n",
       "      <td>2020-09-07</td>\n",
       "    </tr>\n",
       "  </tbody>\n",
       "</table>\n",
       "</div>"
      ],
      "text/plain": [
       "                                                   title        date\n",
       "48552  Both naive and memory B cells respond to flu v...  2020-09-16\n",
       "31476  Executive order Trump claimed would prevent ev...  2020-08-13\n",
       "56309  Thai Union surges as tuna and toilet paper top...  2020-03-20\n",
       "32244     What Will Oil Prices Do After The Coronavirus?  2020-02-16\n",
       "46960  Indonesian students balance on tree branches t...  2020-09-07"
      ]
     },
     "execution_count": 10,
     "metadata": {},
     "output_type": "execute_result"
    }
   ],
   "source": [
    "df_samp.head()"
   ]
  },
  {
   "cell_type": "code",
   "execution_count": 13,
   "id": "3a62e79b-16d3-4e77-a63a-838f2412b66e",
   "metadata": {},
   "outputs": [],
   "source": [
    "df_samp.rename(columns={\"title\":\"input\"}, inplace=True)"
   ]
  },
  {
   "cell_type": "code",
   "execution_count": 14,
   "id": "46013744-7e88-4845-b555-d6276fe70001",
   "metadata": {},
   "outputs": [],
   "source": [
    "from datasets import Dataset,DatasetDict\n",
    "\n",
    "ds = Dataset.from_pandas(df_samp)"
   ]
  },
  {
   "cell_type": "code",
   "execution_count": 15,
   "id": "f2e779dd-8a0d-48e3-ac8a-2d2faef3a632",
   "metadata": {},
   "outputs": [
    {
     "data": {
      "text/plain": [
       "Dataset({\n",
       "    features: ['input', 'date'],\n",
       "    num_rows: 477551\n",
       "})"
      ]
     },
     "execution_count": 15,
     "metadata": {},
     "output_type": "execute_result"
    }
   ],
   "source": [
    "ds"
   ]
  },
  {
   "cell_type": "code",
   "execution_count": null,
   "id": "bd26e7d3-c4ff-4bff-9824-cee057b2c1a0",
   "metadata": {},
   "outputs": [],
   "source": []
  },
  {
   "cell_type": "code",
   "execution_count": null,
   "id": "4f4e56e6-0efc-4479-a86e-5c90cbc91b5e",
   "metadata": {},
   "outputs": [],
   "source": []
  },
  {
   "cell_type": "code",
   "execution_count": 16,
   "id": "42915a42-b8ef-4cc5-bef0-112e21749120",
   "metadata": {},
   "outputs": [],
   "source": [
    "from transformers import AutoTokenizer, AutoModelForTokenClassification\n",
    "from transformers import pipeline\n",
    "\n",
    "tokenizer = AutoTokenizer.from_pretrained(\"dslim/bert-base-NER\")\n",
    "model = AutoModelForTokenClassification.from_pretrained(\"dslim/bert-base-NER\")"
   ]
  },
  {
   "cell_type": "code",
   "execution_count": 17,
   "id": "1b2909b2-476d-44be-b98d-42260d0ee7c4",
   "metadata": {},
   "outputs": [],
   "source": [
    "def tok_func(x): return tokenizer(x[\"input\"])"
   ]
  },
  {
   "cell_type": "code",
   "execution_count": 18,
   "id": "433a491d-dd78-4c06-b25c-82db986308ec",
   "metadata": {},
   "outputs": [
    {
     "name": "stderr",
     "output_type": "stream",
     "text": [
      "Parameter 'function'=<function tok_func at 0x7f0f38d49af0> of the transform datasets.arrow_dataset.Dataset._map_single couldn't be hashed properly, a random hash was used instead. Make sure your transforms and parameters are serializable with pickle or dill for the dataset fingerprinting and caching to work. If you reuse this transform, the caching mechanism will consider it to be different from the previous calls and recompute everything. This warning is only showed once. Subsequent hashing failures won't be showed.\n",
      " 64%|██████▍   | 306/478 [00:09<00:04, 34.60ba/s]Token indices sequence length is longer than the specified maximum sequence length for this model (568 > 512). Running this sequence through the model will result in indexing errors\n",
      "100%|██████████| 478/478 [00:14<00:00, 33.89ba/s]\n"
     ]
    }
   ],
   "source": [
    "tok_ds = ds.map(tok_func, batched=True)"
   ]
  },
  {
   "cell_type": "code",
   "execution_count": 19,
   "id": "f70ec545-a6ae-41dd-821b-ae3bad85271f",
   "metadata": {},
   "outputs": [
    {
     "data": {
      "text/plain": [
       "('Looking into the truth about modern workplace environments',\n",
       " [101, 8540, 1154, 1103, 3062, 1164, 2030, 19328, 10152, 102])"
      ]
     },
     "execution_count": 19,
     "metadata": {},
     "output_type": "execute_result"
    }
   ],
   "source": [
    "row = tok_ds[0]\n",
    "row['input'], row['input_ids']"
   ]
  },
  {
   "cell_type": "code",
   "execution_count": 20,
   "id": "711f2aa3-15c0-4b1b-8f04-353a813edc11",
   "metadata": {},
   "outputs": [
    {
     "data": {
      "text/plain": [
       "28996"
      ]
     },
     "execution_count": 20,
     "metadata": {},
     "output_type": "execute_result"
    }
   ],
   "source": [
    "len(tokenizer)"
   ]
  },
  {
   "cell_type": "code",
   "execution_count": 21,
   "id": "edac2070-d7ac-4111-ba97-8a7e05c09905",
   "metadata": {},
   "outputs": [],
   "source": [
    "# !pip3 install transformers -U"
   ]
  },
  {
   "cell_type": "code",
   "execution_count": 22,
   "id": "2a742cf3-5368-4e31-bdb9-8904ac166c80",
   "metadata": {},
   "outputs": [],
   "source": [
    "from transformers import DataCollatorForTokenClassification\n",
    "\n",
    "data_collator = DataCollatorForTokenClassification(tokenizer)"
   ]
  },
  {
   "cell_type": "code",
   "execution_count": 23,
   "id": "d0ccf0b9-9508-4a4e-9ccb-beca2e306f63",
   "metadata": {},
   "outputs": [],
   "source": [
    "from transformers import TrainingArguments,Trainer"
   ]
  },
  {
   "cell_type": "code",
   "execution_count": 24,
   "id": "91aa5597-4cb4-439d-b981-be59978a64b7",
   "metadata": {},
   "outputs": [],
   "source": [
    "bs = 128\n",
    "epochs = 4\n",
    "lr = 8e-5"
   ]
  },
  {
   "cell_type": "code",
   "execution_count": 25,
   "id": "e5918a79-e387-470a-87d1-e0c0d0c50b4c",
   "metadata": {},
   "outputs": [],
   "source": [
    "args = TrainingArguments('outputs', learning_rate=lr, warmup_ratio=0.1, lr_scheduler_type='cosine', fp16=True,\n",
    "    evaluation_strategy=\"epoch\", per_device_train_batch_size=bs, per_device_eval_batch_size=bs*2,\n",
    "    num_train_epochs=epochs, weight_decay=0.01, report_to='none')"
   ]
  },
  {
   "cell_type": "code",
   "execution_count": 29,
   "id": "2ecc6b53-a41e-443d-9d51-e7319f3d1406",
   "metadata": {},
   "outputs": [
    {
     "name": "stderr",
     "output_type": "stream",
     "text": [
      "Using cuda_amp half precision backend\n"
     ]
    }
   ],
   "source": [
    "trainer = Trainer(model, args,\n",
    "                  tokenizer=tokenizer)"
   ]
  },
  {
   "cell_type": "code",
   "execution_count": 26,
   "id": "0077dc52-de49-45cb-862c-bf4afa5b4dad",
   "metadata": {},
   "outputs": [
    {
     "name": "stderr",
     "output_type": "stream",
     "text": [
      "100%|██████████| 478/478 [00:13<00:00, 34.46ba/s]\n"
     ]
    }
   ],
   "source": [
    "eval_ds = Dataset.from_pandas(df_samp).map(tok_func, batched=True)"
   ]
  },
  {
   "cell_type": "code",
   "execution_count": 33,
   "id": "e2f35475-34c2-43c2-85b6-4ba586b766b9",
   "metadata": {},
   "outputs": [
    {
     "name": "stderr",
     "output_type": "stream",
     "text": [
      "The following columns in the test set don't have a corresponding argument in `BertForTokenClassification.forward` and have been ignored: date, input, __index_level_0__. If date, input, __index_level_0__ are not expected by `BertForTokenClassification.forward`,  you can safely ignore this message.\n",
      "***** Running Prediction *****\n",
      "  Num examples = 100000\n",
      "  Batch size = 256\n"
     ]
    }
   ],
   "source": [
    "res  = trainer.predict(eval_ds)"
   ]
  },
  {
   "cell_type": "code",
   "execution_count": 34,
   "id": "c988aa49-5719-4357-9224-b4ce87184787",
   "metadata": {},
   "outputs": [
    {
     "data": {
      "text/plain": [
       "PredictionOutput(predictions=array([[[   9.67  ,   -0.1692,   -1.094 , ...,   -1.865 ,   -1.746 ,\n",
       "           -1.537 ],\n",
       "        [  10.875 ,   -0.514 ,   -1.656 , ...,   -2.062 ,   -1.493 ,\n",
       "           -1.921 ],\n",
       "        [  11.09  ,   -0.3015,   -1.446 , ...,   -1.525 ,   -1.923 ,\n",
       "           -1.745 ],\n",
       "        ...,\n",
       "        [-100.    , -100.    , -100.    , ..., -100.    , -100.    ,\n",
       "         -100.    ],\n",
       "        [-100.    , -100.    , -100.    , ..., -100.    , -100.    ,\n",
       "         -100.    ],\n",
       "        [-100.    , -100.    , -100.    , ..., -100.    , -100.    ,\n",
       "         -100.    ]],\n",
       "\n",
       "       [[  10.28  ,   -0.833 ,   -1.173 , ...,   -1.608 ,   -1.949 ,\n",
       "           -1.32  ],\n",
       "        [   9.67  ,   -0.8984,   -2.64  , ...,   -1.891 ,   -1.    ,\n",
       "           -2.01  ],\n",
       "        [  10.89  ,   -1.472 ,   -1.42  , ...,   -0.8535,   -2.133 ,\n",
       "           -1.55  ],\n",
       "        ...,\n",
       "        [-100.    , -100.    , -100.    , ..., -100.    , -100.    ,\n",
       "         -100.    ],\n",
       "        [-100.    , -100.    , -100.    , ..., -100.    , -100.    ,\n",
       "         -100.    ],\n",
       "        [-100.    , -100.    , -100.    , ..., -100.    , -100.    ,\n",
       "         -100.    ]],\n",
       "\n",
       "       [[   9.9   ,   -0.822 ,   -1.398 , ...,   -1.339 ,   -1.893 ,\n",
       "           -1.247 ],\n",
       "        [   0.4575,    0.2366,   -1.335 , ...,   -0.96  ,   -1.084 ,\n",
       "           -2.805 ],\n",
       "        [   0.835 ,   -1.882 ,   -0.3228, ...,    7.957 ,   -2.016 ,\n",
       "           -1.356 ],\n",
       "        ...,\n",
       "        [-100.    , -100.    , -100.    , ..., -100.    , -100.    ,\n",
       "         -100.    ],\n",
       "        [-100.    , -100.    , -100.    , ..., -100.    , -100.    ,\n",
       "         -100.    ],\n",
       "        [-100.    , -100.    , -100.    , ..., -100.    , -100.    ,\n",
       "         -100.    ]],\n",
       "\n",
       "       ...,\n",
       "\n",
       "       [[   8.58  ,   -0.7197,   -0.4736, ...,   -0.9062,   -1.936 ,\n",
       "           -1.153 ],\n",
       "        [   0.4941,   -1.047 ,   -2.047 , ...,   -0.768 ,    0.388 ,\n",
       "           -3.043 ],\n",
       "        [   1.442 ,   -2.75  ,    0.4846, ...,    7.652 ,   -1.992 ,\n",
       "            0.1785],\n",
       "        ...,\n",
       "        [-100.    , -100.    , -100.    , ..., -100.    , -100.    ,\n",
       "         -100.    ],\n",
       "        [-100.    , -100.    , -100.    , ..., -100.    , -100.    ,\n",
       "         -100.    ],\n",
       "        [-100.    , -100.    , -100.    , ..., -100.    , -100.    ,\n",
       "         -100.    ]],\n",
       "\n",
       "       [[   9.39  ,   -0.552 ,   -1.18  , ...,   -1.381 ,   -1.826 ,\n",
       "           -1.327 ],\n",
       "        [  10.375 ,   -1.011 ,   -2.094 , ...,   -1.252 ,   -1.779 ,\n",
       "           -1.87  ],\n",
       "        [  10.12  ,   -0.8096,   -1.402 , ...,   -0.7144,   -2.266 ,\n",
       "           -1.557 ],\n",
       "        ...,\n",
       "        [-100.    , -100.    , -100.    , ..., -100.    , -100.    ,\n",
       "         -100.    ],\n",
       "        [-100.    , -100.    , -100.    , ..., -100.    , -100.    ,\n",
       "         -100.    ],\n",
       "        [-100.    , -100.    , -100.    , ..., -100.    , -100.    ,\n",
       "         -100.    ]],\n",
       "\n",
       "       [[   7.88  ,   -0.852 ,   -0.463 , ...,   -0.622 ,   -1.76  ,\n",
       "           -1.016 ],\n",
       "        [   7.062 ,    0.8267,   -2.076 , ...,   -1.818 ,   -0.5176,\n",
       "           -2.139 ],\n",
       "        [   8.91  ,   -1.606 ,    1.016 , ...,    0.682 ,   -2.578 ,\n",
       "           -1.151 ],\n",
       "        ...,\n",
       "        [-100.    , -100.    , -100.    , ..., -100.    , -100.    ,\n",
       "         -100.    ],\n",
       "        [-100.    , -100.    , -100.    , ..., -100.    , -100.    ,\n",
       "         -100.    ],\n",
       "        [-100.    , -100.    , -100.    , ..., -100.    , -100.    ,\n",
       "         -100.    ]]], dtype=float16), label_ids=None, metrics={'test_runtime': 28.9063, 'test_samples_per_second': 3459.454, 'test_steps_per_second': 13.526})"
      ]
     },
     "execution_count": 34,
     "metadata": {},
     "output_type": "execute_result"
    }
   ],
   "source": [
    "res"
   ]
  },
  {
   "cell_type": "code",
   "execution_count": 70,
   "id": "637c7a47-19cc-495f-8119-f70115180134",
   "metadata": {},
   "outputs": [],
   "source": [
    "# pipeline??"
   ]
  },
  {
   "cell_type": "code",
   "execution_count": 27,
   "id": "d246731e-2e1f-4cc0-9394-a0ba54ae51e1",
   "metadata": {},
   "outputs": [
    {
     "data": {
      "text/plain": [
       "Dataset({\n",
       "    features: ['input', 'date', 'input_ids', 'token_type_ids', 'attention_mask'],\n",
       "    num_rows: 477551\n",
       "})"
      ]
     },
     "execution_count": 27,
     "metadata": {},
     "output_type": "execute_result"
    }
   ],
   "source": [
    "eval_ds"
   ]
  },
  {
   "cell_type": "code",
   "execution_count": 28,
   "id": "504107a1-b633-4d11-8139-139b9ae33b28",
   "metadata": {},
   "outputs": [],
   "source": [
    "from transformers.pipelines.pt_utils import KeyDataset"
   ]
  },
  {
   "cell_type": "code",
   "execution_count": 50,
   "id": "12a0992f-52a2-445f-8ff6-6ae81a74c9ef",
   "metadata": {},
   "outputs": [],
   "source": [
    "tokenizer = AutoTokenizer.from_pretrained(\"dslim/bert-base-NER\")\n",
    "model = AutoModelForTokenClassification.from_pretrained(\"dslim/bert-base-NER\")\n",
    "\n",
    "nlp = pipeline(\"ner\", model=model, tokenizer=tokenizer, device=0, aggregation_strategy=\"simple\")"
   ]
  },
  {
   "cell_type": "code",
   "execution_count": 51,
   "id": "3d8d2c4f-26b3-4da5-b16b-6993d75919a9",
   "metadata": {},
   "outputs": [],
   "source": [
    "outputs = []"
   ]
  },
  {
   "cell_type": "code",
   "execution_count": 52,
   "id": "eb6b7afa-272a-43e2-b6a6-64f5bdbf26bd",
   "metadata": {},
   "outputs": [
    {
     "name": "stdout",
     "output_type": "stream",
     "text": [
      "CPU times: user 12min 35s, sys: 925 ms, total: 12min 36s\n",
      "Wall time: 11min 29s\n"
     ]
    }
   ],
   "source": [
    "%%time\n",
    "for out in nlp(KeyDataset(eval_ds, \"input\"), batch_size=512):\n",
    "    outputs.append(out)"
   ]
  },
  {
   "cell_type": "code",
   "execution_count": 53,
   "id": "91ed9b33-f9af-4083-88c2-894bf7cc032e",
   "metadata": {},
   "outputs": [
    {
     "data": {
      "text/plain": [
       "477551"
      ]
     },
     "execution_count": 53,
     "metadata": {},
     "output_type": "execute_result"
    }
   ],
   "source": [
    "len(outputs)"
   ]
  },
  {
   "cell_type": "code",
   "execution_count": 54,
   "id": "28eeac59-b4ac-4a7c-acb6-fe7d3d25ffac",
   "metadata": {},
   "outputs": [
    {
     "data": {
      "text/plain": [
       "[{'entity_group': 'ORG',\n",
       "  'score': 0.98141575,\n",
       "  'word': 'Hexo',\n",
       "  'start': 0,\n",
       "  'end': 4}]"
      ]
     },
     "execution_count": 54,
     "metadata": {},
     "output_type": "execute_result"
    }
   ],
   "source": [
    "outputs[1]"
   ]
  },
  {
   "cell_type": "code",
   "execution_count": 55,
   "id": "9ed36b11-0f59-41c2-bd31-4f4218a16ccc",
   "metadata": {},
   "outputs": [
    {
     "data": {
      "text/plain": [
       "[[],\n",
       " [{'entity_group': 'ORG',\n",
       "   'score': 0.98141575,\n",
       "   'word': 'Hexo',\n",
       "   'start': 0,\n",
       "   'end': 4}],\n",
       " [{'entity_group': 'LOC',\n",
       "   'score': 0.9998456,\n",
       "   'word': 'Japan',\n",
       "   'start': 0,\n",
       "   'end': 5},\n",
       "  {'entity_group': 'LOC',\n",
       "   'score': 0.9998367,\n",
       "   'word': 'Turkey',\n",
       "   'start': 12,\n",
       "   'end': 18},\n",
       "  {'entity_group': 'MISC',\n",
       "   'score': 0.4966304,\n",
       "   'word': 'G',\n",
       "   'start': 39,\n",
       "   'end': 40},\n",
       "  {'entity_group': 'PER',\n",
       "   'score': 0.36327088,\n",
       "   'word': '##hos',\n",
       "   'start': 40,\n",
       "   'end': 43}],\n",
       " [{'entity_group': 'PER',\n",
       "   'score': 0.9622895,\n",
       "   'word': 'Pope',\n",
       "   'start': 0,\n",
       "   'end': 4}],\n",
       " [{'entity_group': 'LOC',\n",
       "   'score': 0.9998055,\n",
       "   'word': 'Lebanon',\n",
       "   'start': 0,\n",
       "   'end': 7},\n",
       "  {'entity_group': 'PER',\n",
       "   'score': 0.9996407,\n",
       "   'word': 'G',\n",
       "   'start': 43,\n",
       "   'end': 44},\n",
       "  {'entity_group': 'PER',\n",
       "   'score': 0.7288272,\n",
       "   'word': '##hos',\n",
       "   'start': 44,\n",
       "   'end': 47}],\n",
       " [{'entity_group': 'MISC',\n",
       "   'score': 0.99968207,\n",
       "   'word': 'Lebanese',\n",
       "   'start': 0,\n",
       "   'end': 8},\n",
       "  {'entity_group': 'PER',\n",
       "   'score': 0.83432066,\n",
       "   'word': 'Ghos',\n",
       "   'start': 22,\n",
       "   'end': 26},\n",
       "  {'entity_group': 'LOC',\n",
       "   'score': 0.9994006,\n",
       "   'word': 'Israel',\n",
       "   'start': 44,\n",
       "   'end': 50}],\n",
       " [{'entity_group': 'PER',\n",
       "   'score': 0.7874788,\n",
       "   'word': 'Ghos',\n",
       "   'start': 20,\n",
       "   'end': 24},\n",
       "  {'entity_group': 'LOC',\n",
       "   'score': 0.9998299,\n",
       "   'word': 'Japan',\n",
       "   'start': 34,\n",
       "   'end': 39}],\n",
       " [{'entity_group': 'PER',\n",
       "   'score': 0.9995777,\n",
       "   'word': 'G',\n",
       "   'start': 0,\n",
       "   'end': 1},\n",
       "  {'entity_group': 'PER',\n",
       "   'score': 0.7353478,\n",
       "   'word': '##hos',\n",
       "   'start': 1,\n",
       "   'end': 4},\n",
       "  {'entity_group': 'LOC',\n",
       "   'score': 0.99982786,\n",
       "   'word': 'Japan',\n",
       "   'start': 37,\n",
       "   'end': 42}],\n",
       " [{'entity_group': 'LOC',\n",
       "   'score': 0.9998135,\n",
       "   'word': 'Mexico',\n",
       "   'start': 0,\n",
       "   'end': 6},\n",
       "  {'entity_group': 'LOC',\n",
       "   'score': 0.9982598,\n",
       "   'word': 'Santiago River',\n",
       "   'start': 9,\n",
       "   'end': 23}],\n",
       " [{'entity_group': 'MISC',\n",
       "   'score': 0.9996513,\n",
       "   'word': 'British',\n",
       "   'start': 6,\n",
       "   'end': 13}]]"
      ]
     },
     "execution_count": 55,
     "metadata": {},
     "output_type": "execute_result"
    }
   ],
   "source": [
    "outputs[:10]"
   ]
  },
  {
   "cell_type": "code",
   "execution_count": 56,
   "id": "d0f8d012-d2e9-4443-81e5-d340e7b236b9",
   "metadata": {},
   "outputs": [
    {
     "data": {
      "text/plain": [
       "'Hexo refiles financial statements'"
      ]
     },
     "execution_count": 56,
     "metadata": {},
     "output_type": "execute_result"
    }
   ],
   "source": [
    "df_samp.iloc[1,0]"
   ]
  },
  {
   "cell_type": "code",
   "execution_count": 57,
   "id": "4751665f-6d1d-4c21-a0a9-d54e914dd96c",
   "metadata": {},
   "outputs": [],
   "source": [
    "df_samp[\"ner\"] = outputs"
   ]
  },
  {
   "cell_type": "code",
   "execution_count": 58,
   "id": "894348e6-3c34-4e51-8fcc-659162139ba2",
   "metadata": {},
   "outputs": [
    {
     "data": {
      "text/html": [
       "<div>\n",
       "<style scoped>\n",
       "    .dataframe tbody tr th:only-of-type {\n",
       "        vertical-align: middle;\n",
       "    }\n",
       "\n",
       "    .dataframe tbody tr th {\n",
       "        vertical-align: top;\n",
       "    }\n",
       "\n",
       "    .dataframe thead th {\n",
       "        text-align: right;\n",
       "    }\n",
       "</style>\n",
       "<table border=\"1\" class=\"dataframe\">\n",
       "  <thead>\n",
       "    <tr style=\"text-align: right;\">\n",
       "      <th></th>\n",
       "      <th>input</th>\n",
       "      <th>date</th>\n",
       "      <th>ner</th>\n",
       "    </tr>\n",
       "  </thead>\n",
       "  <tbody>\n",
       "    <tr>\n",
       "      <th>0</th>\n",
       "      <td>Looking into the truth about modern workplace ...</td>\n",
       "      <td>2020-01-02</td>\n",
       "      <td>[]</td>\n",
       "    </tr>\n",
       "    <tr>\n",
       "      <th>1</th>\n",
       "      <td>Hexo refiles financial statements</td>\n",
       "      <td>2020-01-02</td>\n",
       "      <td>[{'entity_group': 'ORG', 'score': 0.98141575, ...</td>\n",
       "    </tr>\n",
       "    <tr>\n",
       "      <th>2</th>\n",
       "      <td>Japan raid, Turkey arrests in widening Ghosn p...</td>\n",
       "      <td>2020-01-02</td>\n",
       "      <td>[{'entity_group': 'LOC', 'score': 0.9998456, '...</td>\n",
       "    </tr>\n",
       "    <tr>\n",
       "      <th>3</th>\n",
       "      <td>Pope's bodyguards criticised over slapping inc...</td>\n",
       "      <td>2020-01-02</td>\n",
       "      <td>[{'entity_group': 'PER', 'score': 0.9622895, '...</td>\n",
       "    </tr>\n",
       "    <tr>\n",
       "      <th>4</th>\n",
       "      <td>Lebanon denies president welcomed fugitive Ghosn</td>\n",
       "      <td>2020-01-02</td>\n",
       "      <td>[{'entity_group': 'LOC', 'score': 0.9998055, '...</td>\n",
       "    </tr>\n",
       "  </tbody>\n",
       "</table>\n",
       "</div>"
      ],
      "text/plain": [
       "                                               input        date  \\\n",
       "0  Looking into the truth about modern workplace ...  2020-01-02   \n",
       "1                  Hexo refiles financial statements  2020-01-02   \n",
       "2  Japan raid, Turkey arrests in widening Ghosn p...  2020-01-02   \n",
       "3  Pope's bodyguards criticised over slapping inc...  2020-01-02   \n",
       "4   Lebanon denies president welcomed fugitive Ghosn  2020-01-02   \n",
       "\n",
       "                                                 ner  \n",
       "0                                                 []  \n",
       "1  [{'entity_group': 'ORG', 'score': 0.98141575, ...  \n",
       "2  [{'entity_group': 'LOC', 'score': 0.9998456, '...  \n",
       "3  [{'entity_group': 'PER', 'score': 0.9622895, '...  \n",
       "4  [{'entity_group': 'LOC', 'score': 0.9998055, '...  "
      ]
     },
     "execution_count": 58,
     "metadata": {},
     "output_type": "execute_result"
    }
   ],
   "source": [
    "df_samp.head()"
   ]
  },
  {
   "cell_type": "code",
   "execution_count": 59,
   "id": "fa8311f8-0754-4729-a9cf-31331f20c61c",
   "metadata": {},
   "outputs": [],
   "source": [
    "df_samp.to_parquet(\"df_ner.pq\")"
   ]
  },
  {
   "cell_type": "code",
   "execution_count": 46,
   "id": "7da15c12-d880-4f60-bc79-6740496a0033",
   "metadata": {},
   "outputs": [],
   "source": [
    "# !pip3 install spacy"
   ]
  },
  {
   "cell_type": "code",
   "execution_count": 47,
   "id": "edd021d3-4ece-4b06-bf18-154f6eaf9b81",
   "metadata": {},
   "outputs": [],
   "source": [
    "import spacy\n",
    "from spacy import displacy"
   ]
  },
  {
   "cell_type": "code",
   "execution_count": 60,
   "id": "55f3a99a-5303-4de8-a441-5e0089fb8d68",
   "metadata": {},
   "outputs": [],
   "source": [
    "def hf_ann(text, ner_results):\n",
    " \n",
    "\n",
    "    color_code = {\"ORG\": \"#8ef\", \"MISC\": \"#faa\", \"PER\": \"#fea\", \"LOC\": \"#afa\"}\n",
    "    annotated_tuple = []\n",
    "\n",
    "    annotated_tuple.append(text[: ner_results[0][\"start\"]])\n",
    "    # annotated_tuple.append(ner_results[0])\n",
    "    annotated_tuple.append(\n",
    "        tuple(\n",
    "            [\n",
    "                text[ner_results[0][\"start\"] : ner_results[0][\"end\"]],\n",
    "                ner_results[0][\"entity_group\"],\n",
    "                color_code[ner_results[0][\"entity_group\"]],\n",
    "            ]\n",
    "        )\n",
    "    )\n",
    "    for i in range(1, len(ner_results)):\n",
    "        prev = ner_results[i - 1]\n",
    "        current = ner_results[i]\n",
    "        annotated_tuple.append(text[prev[\"end\"] : current[\"start\"]])\n",
    "        annotated_tuple.append(\n",
    "            tuple(\n",
    "                [\n",
    "                    text[current[\"start\"] : current[\"end\"]],\n",
    "                    current[\"entity_group\"],\n",
    "                    color_code[current[\"entity_group\"]],\n",
    "                ]\n",
    "            )\n",
    "        )\n",
    "\n",
    "    annotated_tuple.append(text[ner_results[-1][\"end\"] :])\n",
    "    return tuple(annotated_tuple)"
   ]
  },
  {
   "cell_type": "code",
   "execution_count": 71,
   "id": "8018ee8c-0f14-4087-8af0-4cb9d2e55bd8",
   "metadata": {},
   "outputs": [],
   "source": [
    "#displacy.render(hf_ann(df_samp.iloc[2,0],df_samp.iloc[2,-1]), style=\"ent\", jupyter=True, manual=True)"
   ]
  },
  {
   "cell_type": "code",
   "execution_count": 67,
   "id": "ffccc165-2034-4118-868c-7802688acf73",
   "metadata": {},
   "outputs": [
    {
     "data": {
      "text/plain": [
       "('',\n",
       " ('Japan', 'LOC', '#afa'),\n",
       " ' raid, ',\n",
       " ('Turkey', 'LOC', '#afa'),\n",
       " ' arrests in widening ',\n",
       " ('G', 'MISC', '#faa'),\n",
       " '',\n",
       " ('hos', 'PER', '#fea'),\n",
       " 'n probe')"
      ]
     },
     "execution_count": 67,
     "metadata": {},
     "output_type": "execute_result"
    }
   ],
   "source": [
    "hf_ann(df_samp.iloc[2,0],df_samp.iloc[2,-1])"
   ]
  },
  {
   "cell_type": "code",
   "execution_count": 65,
   "id": "5a4d0236-70ae-4926-8106-cdae9b7690d1",
   "metadata": {},
   "outputs": [
    {
     "data": {
      "text/html": [
       "<div>\n",
       "<style scoped>\n",
       "    .dataframe tbody tr th:only-of-type {\n",
       "        vertical-align: middle;\n",
       "    }\n",
       "\n",
       "    .dataframe tbody tr th {\n",
       "        vertical-align: top;\n",
       "    }\n",
       "\n",
       "    .dataframe thead th {\n",
       "        text-align: right;\n",
       "    }\n",
       "</style>\n",
       "<table border=\"1\" class=\"dataframe\">\n",
       "  <thead>\n",
       "    <tr style=\"text-align: right;\">\n",
       "      <th></th>\n",
       "      <th>input</th>\n",
       "      <th>date</th>\n",
       "      <th>ner</th>\n",
       "    </tr>\n",
       "  </thead>\n",
       "  <tbody>\n",
       "    <tr>\n",
       "      <th>0</th>\n",
       "      <td>Looking into the truth about modern workplace ...</td>\n",
       "      <td>2020-01-02</td>\n",
       "      <td>[]</td>\n",
       "    </tr>\n",
       "    <tr>\n",
       "      <th>1</th>\n",
       "      <td>Hexo refiles financial statements</td>\n",
       "      <td>2020-01-02</td>\n",
       "      <td>[{'entity_group': 'ORG', 'score': 0.98141575, ...</td>\n",
       "    </tr>\n",
       "    <tr>\n",
       "      <th>2</th>\n",
       "      <td>Japan raid, Turkey arrests in widening Ghosn p...</td>\n",
       "      <td>2020-01-02</td>\n",
       "      <td>[{'entity_group': 'LOC', 'score': 0.9998456, '...</td>\n",
       "    </tr>\n",
       "    <tr>\n",
       "      <th>3</th>\n",
       "      <td>Pope's bodyguards criticised over slapping inc...</td>\n",
       "      <td>2020-01-02</td>\n",
       "      <td>[{'entity_group': 'PER', 'score': 0.9622895, '...</td>\n",
       "    </tr>\n",
       "    <tr>\n",
       "      <th>4</th>\n",
       "      <td>Lebanon denies president welcomed fugitive Ghosn</td>\n",
       "      <td>2020-01-02</td>\n",
       "      <td>[{'entity_group': 'LOC', 'score': 0.9998055, '...</td>\n",
       "    </tr>\n",
       "    <tr>\n",
       "      <th>...</th>\n",
       "      <td>...</td>\n",
       "      <td>...</td>\n",
       "      <td>...</td>\n",
       "    </tr>\n",
       "    <tr>\n",
       "      <th>477546</th>\n",
       "      <td>Improved models of care for cancer survivors</td>\n",
       "      <td>2022-04-16</td>\n",
       "      <td>[]</td>\n",
       "    </tr>\n",
       "    <tr>\n",
       "      <th>477547</th>\n",
       "      <td>Cracks in the foundation: how COVID-19 showed ...</td>\n",
       "      <td>2022-04-16</td>\n",
       "      <td>[{'entity_group': 'MISC', 'score': 0.98701143,...</td>\n",
       "    </tr>\n",
       "    <tr>\n",
       "      <th>477548</th>\n",
       "      <td>Bragar Eagel &amp; Squire, P.C.</td>\n",
       "      <td>2022-04-18</td>\n",
       "      <td>[{'entity_group': 'ORG', 'score': 0.98975074, ...</td>\n",
       "    </tr>\n",
       "    <tr>\n",
       "      <th>477549</th>\n",
       "      <td>TP Minds Americas returns to the LIVE stage th...</td>\n",
       "      <td>2022-04-18</td>\n",
       "      <td>[{'entity_group': 'ORG', 'score': 0.994438, 'w...</td>\n",
       "    </tr>\n",
       "    <tr>\n",
       "      <th>477550</th>\n",
       "      <td>Argus Oil Products 2022. Global Markets and CIS</td>\n",
       "      <td>2022-04-19</td>\n",
       "      <td>[{'entity_group': 'ORG', 'score': 0.9986766, '...</td>\n",
       "    </tr>\n",
       "  </tbody>\n",
       "</table>\n",
       "<p>477551 rows × 3 columns</p>\n",
       "</div>"
      ],
      "text/plain": [
       "                                                    input        date  \\\n",
       "0       Looking into the truth about modern workplace ...  2020-01-02   \n",
       "1                       Hexo refiles financial statements  2020-01-02   \n",
       "2       Japan raid, Turkey arrests in widening Ghosn p...  2020-01-02   \n",
       "3       Pope's bodyguards criticised over slapping inc...  2020-01-02   \n",
       "4        Lebanon denies president welcomed fugitive Ghosn  2020-01-02   \n",
       "...                                                   ...         ...   \n",
       "477546       Improved models of care for cancer survivors  2022-04-16   \n",
       "477547  Cracks in the foundation: how COVID-19 showed ...  2022-04-16   \n",
       "477548                        Bragar Eagel & Squire, P.C.  2022-04-18   \n",
       "477549  TP Minds Americas returns to the LIVE stage th...  2022-04-18   \n",
       "477550    Argus Oil Products 2022. Global Markets and CIS  2022-04-19   \n",
       "\n",
       "                                                      ner  \n",
       "0                                                      []  \n",
       "1       [{'entity_group': 'ORG', 'score': 0.98141575, ...  \n",
       "2       [{'entity_group': 'LOC', 'score': 0.9998456, '...  \n",
       "3       [{'entity_group': 'PER', 'score': 0.9622895, '...  \n",
       "4       [{'entity_group': 'LOC', 'score': 0.9998055, '...  \n",
       "...                                                   ...  \n",
       "477546                                                 []  \n",
       "477547  [{'entity_group': 'MISC', 'score': 0.98701143,...  \n",
       "477548  [{'entity_group': 'ORG', 'score': 0.98975074, ...  \n",
       "477549  [{'entity_group': 'ORG', 'score': 0.994438, 'w...  \n",
       "477550  [{'entity_group': 'ORG', 'score': 0.9986766, '...  \n",
       "\n",
       "[477551 rows x 3 columns]"
      ]
     },
     "execution_count": 65,
     "metadata": {},
     "output_type": "execute_result"
    }
   ],
   "source": [
    "df_samp"
   ]
  },
  {
   "cell_type": "code",
   "execution_count": 70,
   "id": "ce5bb552-20a2-49a2-89f0-114d7c0039f5",
   "metadata": {},
   "outputs": [],
   "source": [
    "df_samp.to_csv(\"ner_res.csv\")"
   ]
  },
  {
   "cell_type": "markdown",
   "id": "8c0c91ff-3407-4cb1-9802-a4af40a84e29",
   "metadata": {},
   "source": [
    "# Sentiment Analysis"
   ]
  },
  {
   "cell_type": "code",
   "execution_count": 109,
   "id": "a3370fdb-abb7-42a6-a0c0-651a1d9989d1",
   "metadata": {},
   "outputs": [],
   "source": [
    "df_samp[\"input\"] = df_samp[\"input\"].apply(lambda x: x[:500])"
   ]
  },
  {
   "cell_type": "code",
   "execution_count": 110,
   "id": "ff2eaf84-bd9e-4b40-a715-0183a2464bfc",
   "metadata": {},
   "outputs": [
    {
     "data": {
      "text/plain": [
       "'US places ban on Cuban defense chief'"
      ]
     },
     "execution_count": 110,
     "metadata": {},
     "output_type": "execute_result"
    }
   ],
   "source": [
    "df_samp.iloc[10,0]"
   ]
  },
  {
   "cell_type": "code",
   "execution_count": 111,
   "id": "2485ea51-0d2a-4dbc-b669-51400b600039",
   "metadata": {},
   "outputs": [
    {
     "name": "stderr",
     "output_type": "stream",
     "text": [
      "No model was supplied, defaulted to distilbert-base-uncased-finetuned-sst-2-english (https://huggingface.co/distilbert-base-uncased-finetuned-sst-2-english)\n"
     ]
    }
   ],
   "source": [
    "from transformers import pipeline\n",
    "sentiment_task = pipeline(\"sentiment-analysis\", device=0)"
   ]
  },
  {
   "cell_type": "code",
   "execution_count": 112,
   "id": "db11dd0d-e697-40a5-93ed-199fad0bded3",
   "metadata": {},
   "outputs": [],
   "source": [
    "from transformers import AutoTokenizer, AutoModelForSequenceClassification\n",
    "\n",
    "tokenizer = AutoTokenizer.from_pretrained(\"distilbert-base-uncased-finetuned-sst-2-english\")\n",
    "\n",
    "model = AutoModelForSequenceClassification.from_pretrained(\"distilbert-base-uncased-finetuned-sst-2-english\")"
   ]
  },
  {
   "cell_type": "code",
   "execution_count": 113,
   "id": "3dac5926-5c99-47ba-aa1e-446b62f6d3eb",
   "metadata": {},
   "outputs": [],
   "source": [
    "from transformers import pipeline\n",
    "sentiment_task = pipeline(\"sentiment-analysis\", model=model, tokenizer=tokenizer, device=0)"
   ]
  },
  {
   "cell_type": "code",
   "execution_count": 114,
   "id": "f6a315ec-a036-4a33-b143-d375935c8072",
   "metadata": {},
   "outputs": [],
   "source": [
    "def tok_func(x): return tokenizer(x[\"input\"])"
   ]
  },
  {
   "cell_type": "code",
   "execution_count": 115,
   "id": "ae774f3d-9b98-40cf-8a33-ba0cd3c46fe0",
   "metadata": {},
   "outputs": [
    {
     "name": "stderr",
     "output_type": "stream",
     "text": [
      "100%|██████████| 478/478 [00:48<00:00,  9.80ba/s]\n"
     ]
    }
   ],
   "source": [
    "eval_ds = Dataset.from_pandas(df_samp).map(tok_func, batched=True)"
   ]
  },
  {
   "cell_type": "code",
   "execution_count": null,
   "id": "c6c41500-c2a8-4446-834b-d041b55bf562",
   "metadata": {},
   "outputs": [],
   "source": []
  },
  {
   "cell_type": "code",
   "execution_count": 116,
   "id": "7c4f367b-1539-4a4d-896c-a4953f5239d7",
   "metadata": {},
   "outputs": [
    {
     "name": "stdout",
     "output_type": "stream",
     "text": [
      "CPU times: user 4min 43s, sys: 178 ms, total: 4min 43s\n",
      "Wall time: 4min 19s\n"
     ]
    }
   ],
   "source": [
    "%%time\n",
    "outputs = []\n",
    "for out in sentiment_task(KeyDataset(eval_ds, \"input\"), batch_size=1024):\n",
    "    outputs.append(out)"
   ]
  },
  {
   "cell_type": "code",
   "execution_count": 117,
   "id": "c9bad485-b936-45e8-b9c0-e91c0304ca7c",
   "metadata": {},
   "outputs": [
    {
     "data": {
      "text/plain": [
       "477551"
      ]
     },
     "execution_count": 117,
     "metadata": {},
     "output_type": "execute_result"
    }
   ],
   "source": [
    "len(outputs)"
   ]
  },
  {
   "cell_type": "code",
   "execution_count": 118,
   "id": "01949781-02ba-4a15-9540-544b66e92224",
   "metadata": {},
   "outputs": [],
   "source": [
    "df_samp[\"sentiment\"] = outputs"
   ]
  },
  {
   "cell_type": "code",
   "execution_count": 120,
   "id": "aa1490b5-abe1-4698-b299-f57259809393",
   "metadata": {},
   "outputs": [
    {
     "data": {
      "text/html": [
       "<div>\n",
       "<style scoped>\n",
       "    .dataframe tbody tr th:only-of-type {\n",
       "        vertical-align: middle;\n",
       "    }\n",
       "\n",
       "    .dataframe tbody tr th {\n",
       "        vertical-align: top;\n",
       "    }\n",
       "\n",
       "    .dataframe thead th {\n",
       "        text-align: right;\n",
       "    }\n",
       "</style>\n",
       "<table border=\"1\" class=\"dataframe\">\n",
       "  <thead>\n",
       "    <tr style=\"text-align: right;\">\n",
       "      <th></th>\n",
       "      <th>input</th>\n",
       "      <th>date</th>\n",
       "      <th>ner</th>\n",
       "      <th>sentiment</th>\n",
       "    </tr>\n",
       "  </thead>\n",
       "  <tbody>\n",
       "    <tr>\n",
       "      <th>0</th>\n",
       "      <td>Looking into the truth about modern workplace ...</td>\n",
       "      <td>2020-01-02</td>\n",
       "      <td>[]</td>\n",
       "      <td>{'label': 'POSITIVE', 'score': 0.9962049126625...</td>\n",
       "    </tr>\n",
       "    <tr>\n",
       "      <th>1</th>\n",
       "      <td>Hexo refiles financial statements</td>\n",
       "      <td>2020-01-02</td>\n",
       "      <td>[{'entity_group': 'ORG', 'score': 0.98141575, ...</td>\n",
       "      <td>{'label': 'NEGATIVE', 'score': 0.9962484240531...</td>\n",
       "    </tr>\n",
       "    <tr>\n",
       "      <th>2</th>\n",
       "      <td>Japan raid, Turkey arrests in widening Ghosn p...</td>\n",
       "      <td>2020-01-02</td>\n",
       "      <td>[{'entity_group': 'LOC', 'score': 0.9998456, '...</td>\n",
       "      <td>{'label': 'NEGATIVE', 'score': 0.9676036834716...</td>\n",
       "    </tr>\n",
       "    <tr>\n",
       "      <th>3</th>\n",
       "      <td>Pope's bodyguards criticised over slapping inc...</td>\n",
       "      <td>2020-01-02</td>\n",
       "      <td>[{'entity_group': 'PER', 'score': 0.9622895, '...</td>\n",
       "      <td>{'label': 'NEGATIVE', 'score': 0.9878612160682...</td>\n",
       "    </tr>\n",
       "    <tr>\n",
       "      <th>4</th>\n",
       "      <td>Lebanon denies president welcomed fugitive Ghosn</td>\n",
       "      <td>2020-01-02</td>\n",
       "      <td>[{'entity_group': 'LOC', 'score': 0.9998055, '...</td>\n",
       "      <td>{'label': 'NEGATIVE', 'score': 0.8703671097755...</td>\n",
       "    </tr>\n",
       "  </tbody>\n",
       "</table>\n",
       "</div>"
      ],
      "text/plain": [
       "                                               input        date  \\\n",
       "0  Looking into the truth about modern workplace ...  2020-01-02   \n",
       "1                  Hexo refiles financial statements  2020-01-02   \n",
       "2  Japan raid, Turkey arrests in widening Ghosn p...  2020-01-02   \n",
       "3  Pope's bodyguards criticised over slapping inc...  2020-01-02   \n",
       "4   Lebanon denies president welcomed fugitive Ghosn  2020-01-02   \n",
       "\n",
       "                                                 ner  \\\n",
       "0                                                 []   \n",
       "1  [{'entity_group': 'ORG', 'score': 0.98141575, ...   \n",
       "2  [{'entity_group': 'LOC', 'score': 0.9998456, '...   \n",
       "3  [{'entity_group': 'PER', 'score': 0.9622895, '...   \n",
       "4  [{'entity_group': 'LOC', 'score': 0.9998055, '...   \n",
       "\n",
       "                                           sentiment  \n",
       "0  {'label': 'POSITIVE', 'score': 0.9962049126625...  \n",
       "1  {'label': 'NEGATIVE', 'score': 0.9962484240531...  \n",
       "2  {'label': 'NEGATIVE', 'score': 0.9676036834716...  \n",
       "3  {'label': 'NEGATIVE', 'score': 0.9878612160682...  \n",
       "4  {'label': 'NEGATIVE', 'score': 0.8703671097755...  "
      ]
     },
     "execution_count": 120,
     "metadata": {},
     "output_type": "execute_result"
    }
   ],
   "source": [
    "df_samp.head()"
   ]
  },
  {
   "cell_type": "code",
   "execution_count": 119,
   "id": "b21f3371-76dc-4339-a650-63e9b4e9b99c",
   "metadata": {},
   "outputs": [],
   "source": [
    "df_samp.to_csv(\"ner_sentiment.csv\")"
   ]
  },
  {
   "cell_type": "code",
   "execution_count": 100,
   "id": "7edd65d0-69c4-4c20-92c8-37dfde0d5c44",
   "metadata": {},
   "outputs": [
    {
     "data": {
      "text/plain": [
       "input    New China pandemic outbreak China single-bigge...\n",
       "date                                            2021-01-14\n",
       "ner      [{'entity_group': 'LOC', 'score': 0.99948597, ...\n",
       "Name: 306177, dtype: object"
      ]
     },
     "execution_count": 100,
     "metadata": {},
     "output_type": "execute_result"
    }
   ],
   "source": [
    "df_samp.iloc[306177]"
   ]
  },
  {
   "cell_type": "code",
   "execution_count": 103,
   "id": "a361709f-3234-4902-a728-95fdf5d9877e",
   "metadata": {},
   "outputs": [
    {
     "name": "stderr",
     "output_type": "stream",
     "text": [
      "/opt/conda/envs/nvtabular_dev_11.2/lib/python3.8/site-packages/transformers/pipelines/base.py:1012: UserWarning: You seem to be using the pipelines sequentially on GPU. In order to maximize efficiency please use a dataset\n",
      "  warnings.warn(\n"
     ]
    },
    {
     "name": "stdout",
     "output_type": "stream",
     "text": [
      "306481\n"
     ]
    }
   ],
   "source": [
    "for i in range(306177, 306177+512):\n",
    "    try:\n",
    "        sentiment_task(df_samp.iloc[i,0])\n",
    "    except:\n",
    "        print(i)"
   ]
  },
  {
   "cell_type": "code",
   "execution_count": 105,
   "id": "7dca9ddd-a0dd-48f7-95bd-8bb2d32ae94a",
   "metadata": {},
   "outputs": [
    {
     "data": {
      "text/plain": [
       "\"Biden's plan to vaccinate the country includes opening up eligibility to get more people vaccinated, creating more vaccination sites, increasing supply and distribution of the vaccines, mobilizing more personnel to support the vaccination effort, and launching a public education campaign to address those hesitant to take the vaccine. `` The process of establishing priority groups was driven by science, but the implementation has been too rigid and confusing. We now see doses of vaccines sitting in freezers unused while people who want the vaccine can not get it, '' a fact sheet provided by the Biden transition team reads. The fact sheet continues, `` President-elect Biden's plan encourages states to open up eligibility beyond healthcare workers and long-term care facility residents and staff, to include frontline essential workers like teachers, first responders, grocery store employees, and anyone who is 65 and older. `` Health care workers and residents of long-term care facilities are the first in line for the coronavirus vaccines, as recommended by vaccine advisers to the CDC. Next in line are older adults, ages 75 and older, and `` frontline essential workers, '' including first responders, the advisers recommended. The President-elect's plan will focus on ensuring equitable access to the vaccine, with a focus on reaching marginalized communities that have been hit hardest by the pandemic. He will use federal funds to create new community vaccination centers across the country, and launch mobile vaccination clinics and provider partnerships to reach underserved urban areas and rural communities. Biden's plan will make vaccines available in pharmacies, and increase the capacity at chain and independent pharmacies across the nation. As Biden has pledged in the past, he will use use the Defense Production Act to maximize the manufacturing of the vaccine and increase the supply. `` President-elect Biden's plan will release the vast majority of the vaccines when they are available, so more people can get vaccinated quickly, while still retaining a small reserve for any unforeseen shortages or delays, '' the fact sheet reads. CNN previously reported that Biden Biden's plan is to increase the public health workforce to support the vaccination effort, which includes allowing for additional professionals to administer vaccines and encouraging states to expand the scope of practice laws and waive licensing requirements where appropriate. The President-elect will also mobilize a public health jobs program to support the response to the pandemic. The President-elect's plan would reimburse state deployments of the National Guard to support vaccinations, and provide additional assistance\""
      ]
     },
     "execution_count": 105,
     "metadata": {},
     "output_type": "execute_result"
    }
   ],
   "source": [
    "df_samp.iloc[306481,0]"
   ]
  },
  {
   "cell_type": "code",
   "execution_count": 106,
   "id": "0e95e94c-db1a-4fce-bee7-ac2142858920",
   "metadata": {},
   "outputs": [
    {
     "ename": "RuntimeError",
     "evalue": "The size of tensor a (545) must match the size of tensor b (512) at non-singleton dimension 1",
     "output_type": "error",
     "traceback": [
      "\u001b[0;31m---------------------------------------------------------------------------\u001b[0m",
      "\u001b[0;31mRuntimeError\u001b[0m                              Traceback (most recent call last)",
      "Input \u001b[0;32mIn [106]\u001b[0m, in \u001b[0;36m<cell line: 1>\u001b[0;34m()\u001b[0m\n\u001b[0;32m----> 1\u001b[0m \u001b[43msentiment_task\u001b[49m\u001b[43m(\u001b[49m\u001b[43mdf_samp\u001b[49m\u001b[38;5;241;43m.\u001b[39;49m\u001b[43miloc\u001b[49m\u001b[43m[\u001b[49m\u001b[38;5;241;43m306481\u001b[39;49m\u001b[43m,\u001b[49m\u001b[38;5;241;43m0\u001b[39;49m\u001b[43m]\u001b[49m\u001b[43m)\u001b[49m\n",
      "File \u001b[0;32m/opt/conda/envs/nvtabular_dev_11.2/lib/python3.8/site-packages/transformers/pipelines/text_classification.py:138\u001b[0m, in \u001b[0;36mTextClassificationPipeline.__call__\u001b[0;34m(self, *args, **kwargs)\u001b[0m\n\u001b[1;32m    104\u001b[0m \u001b[38;5;28;01mdef\u001b[39;00m \u001b[38;5;21m__call__\u001b[39m(\u001b[38;5;28mself\u001b[39m, \u001b[38;5;241m*\u001b[39margs, \u001b[38;5;241m*\u001b[39m\u001b[38;5;241m*\u001b[39mkwargs):\n\u001b[1;32m    105\u001b[0m     \u001b[38;5;124;03m\"\"\"\u001b[39;00m\n\u001b[1;32m    106\u001b[0m \u001b[38;5;124;03m    Classify the text(s) given as inputs.\u001b[39;00m\n\u001b[1;32m    107\u001b[0m \n\u001b[0;32m   (...)\u001b[0m\n\u001b[1;32m    136\u001b[0m \u001b[38;5;124;03m        If `top_k` is used, one such dictionary is returned per label.\u001b[39;00m\n\u001b[1;32m    137\u001b[0m \u001b[38;5;124;03m    \"\"\"\u001b[39;00m\n\u001b[0;32m--> 138\u001b[0m     result \u001b[38;5;241m=\u001b[39m \u001b[38;5;28;43msuper\u001b[39;49m\u001b[43m(\u001b[49m\u001b[43m)\u001b[49m\u001b[38;5;241;43m.\u001b[39;49m\u001b[38;5;21;43m__call__\u001b[39;49m\u001b[43m(\u001b[49m\u001b[38;5;241;43m*\u001b[39;49m\u001b[43margs\u001b[49m\u001b[43m,\u001b[49m\u001b[43m \u001b[49m\u001b[38;5;241;43m*\u001b[39;49m\u001b[38;5;241;43m*\u001b[39;49m\u001b[43mkwargs\u001b[49m\u001b[43m)\u001b[49m\n\u001b[1;32m    139\u001b[0m     \u001b[38;5;28;01mif\u001b[39;00m \u001b[38;5;28misinstance\u001b[39m(args[\u001b[38;5;241m0\u001b[39m], \u001b[38;5;28mstr\u001b[39m) \u001b[38;5;129;01mand\u001b[39;00m \u001b[38;5;28misinstance\u001b[39m(result, \u001b[38;5;28mdict\u001b[39m):\n\u001b[1;32m    140\u001b[0m         \u001b[38;5;66;03m# This pipeline is odd, and return a list when single item is run\u001b[39;00m\n\u001b[1;32m    141\u001b[0m         \u001b[38;5;28;01mreturn\u001b[39;00m [result]\n",
      "File \u001b[0;32m/opt/conda/envs/nvtabular_dev_11.2/lib/python3.8/site-packages/transformers/pipelines/base.py:1043\u001b[0m, in \u001b[0;36mPipeline.__call__\u001b[0;34m(self, inputs, num_workers, batch_size, *args, **kwargs)\u001b[0m\n\u001b[1;32m   1041\u001b[0m     \u001b[38;5;28;01mreturn\u001b[39;00m \u001b[38;5;28mself\u001b[39m\u001b[38;5;241m.\u001b[39miterate(inputs, preprocess_params, forward_params, postprocess_params)\n\u001b[1;32m   1042\u001b[0m \u001b[38;5;28;01melse\u001b[39;00m:\n\u001b[0;32m-> 1043\u001b[0m     \u001b[38;5;28;01mreturn\u001b[39;00m \u001b[38;5;28;43mself\u001b[39;49m\u001b[38;5;241;43m.\u001b[39;49m\u001b[43mrun_single\u001b[49m\u001b[43m(\u001b[49m\u001b[43minputs\u001b[49m\u001b[43m,\u001b[49m\u001b[43m \u001b[49m\u001b[43mpreprocess_params\u001b[49m\u001b[43m,\u001b[49m\u001b[43m \u001b[49m\u001b[43mforward_params\u001b[49m\u001b[43m,\u001b[49m\u001b[43m \u001b[49m\u001b[43mpostprocess_params\u001b[49m\u001b[43m)\u001b[49m\n",
      "File \u001b[0;32m/opt/conda/envs/nvtabular_dev_11.2/lib/python3.8/site-packages/transformers/pipelines/base.py:1050\u001b[0m, in \u001b[0;36mPipeline.run_single\u001b[0;34m(self, inputs, preprocess_params, forward_params, postprocess_params)\u001b[0m\n\u001b[1;32m   1048\u001b[0m \u001b[38;5;28;01mdef\u001b[39;00m \u001b[38;5;21mrun_single\u001b[39m(\u001b[38;5;28mself\u001b[39m, inputs, preprocess_params, forward_params, postprocess_params):\n\u001b[1;32m   1049\u001b[0m     model_inputs \u001b[38;5;241m=\u001b[39m \u001b[38;5;28mself\u001b[39m\u001b[38;5;241m.\u001b[39mpreprocess(inputs, \u001b[38;5;241m*\u001b[39m\u001b[38;5;241m*\u001b[39mpreprocess_params)\n\u001b[0;32m-> 1050\u001b[0m     model_outputs \u001b[38;5;241m=\u001b[39m \u001b[38;5;28;43mself\u001b[39;49m\u001b[38;5;241;43m.\u001b[39;49m\u001b[43mforward\u001b[49m\u001b[43m(\u001b[49m\u001b[43mmodel_inputs\u001b[49m\u001b[43m,\u001b[49m\u001b[43m \u001b[49m\u001b[38;5;241;43m*\u001b[39;49m\u001b[38;5;241;43m*\u001b[39;49m\u001b[43mforward_params\u001b[49m\u001b[43m)\u001b[49m\n\u001b[1;32m   1051\u001b[0m     outputs \u001b[38;5;241m=\u001b[39m \u001b[38;5;28mself\u001b[39m\u001b[38;5;241m.\u001b[39mpostprocess(model_outputs, \u001b[38;5;241m*\u001b[39m\u001b[38;5;241m*\u001b[39mpostprocess_params)\n\u001b[1;32m   1052\u001b[0m     \u001b[38;5;28;01mreturn\u001b[39;00m outputs\n",
      "File \u001b[0;32m/opt/conda/envs/nvtabular_dev_11.2/lib/python3.8/site-packages/transformers/pipelines/base.py:959\u001b[0m, in \u001b[0;36mPipeline.forward\u001b[0;34m(self, model_inputs, **forward_params)\u001b[0m\n\u001b[1;32m    957\u001b[0m     \u001b[38;5;28;01mwith\u001b[39;00m inference_context():\n\u001b[1;32m    958\u001b[0m         model_inputs \u001b[38;5;241m=\u001b[39m \u001b[38;5;28mself\u001b[39m\u001b[38;5;241m.\u001b[39m_ensure_tensor_on_device(model_inputs, device\u001b[38;5;241m=\u001b[39m\u001b[38;5;28mself\u001b[39m\u001b[38;5;241m.\u001b[39mdevice)\n\u001b[0;32m--> 959\u001b[0m         model_outputs \u001b[38;5;241m=\u001b[39m \u001b[38;5;28;43mself\u001b[39;49m\u001b[38;5;241;43m.\u001b[39;49m\u001b[43m_forward\u001b[49m\u001b[43m(\u001b[49m\u001b[43mmodel_inputs\u001b[49m\u001b[43m,\u001b[49m\u001b[43m \u001b[49m\u001b[38;5;241;43m*\u001b[39;49m\u001b[38;5;241;43m*\u001b[39;49m\u001b[43mforward_params\u001b[49m\u001b[43m)\u001b[49m\n\u001b[1;32m    960\u001b[0m         model_outputs \u001b[38;5;241m=\u001b[39m \u001b[38;5;28mself\u001b[39m\u001b[38;5;241m.\u001b[39m_ensure_tensor_on_device(model_outputs, device\u001b[38;5;241m=\u001b[39mtorch\u001b[38;5;241m.\u001b[39mdevice(\u001b[38;5;124m\"\u001b[39m\u001b[38;5;124mcpu\u001b[39m\u001b[38;5;124m\"\u001b[39m))\n\u001b[1;32m    961\u001b[0m \u001b[38;5;28;01melse\u001b[39;00m:\n",
      "File \u001b[0;32m/opt/conda/envs/nvtabular_dev_11.2/lib/python3.8/site-packages/transformers/pipelines/text_classification.py:163\u001b[0m, in \u001b[0;36mTextClassificationPipeline._forward\u001b[0;34m(self, model_inputs)\u001b[0m\n\u001b[1;32m    162\u001b[0m \u001b[38;5;28;01mdef\u001b[39;00m \u001b[38;5;21m_forward\u001b[39m(\u001b[38;5;28mself\u001b[39m, model_inputs):\n\u001b[0;32m--> 163\u001b[0m     \u001b[38;5;28;01mreturn\u001b[39;00m \u001b[38;5;28;43mself\u001b[39;49m\u001b[38;5;241;43m.\u001b[39;49m\u001b[43mmodel\u001b[49m\u001b[43m(\u001b[49m\u001b[38;5;241;43m*\u001b[39;49m\u001b[38;5;241;43m*\u001b[39;49m\u001b[43mmodel_inputs\u001b[49m\u001b[43m)\u001b[49m\n",
      "File \u001b[0;32m/opt/conda/envs/nvtabular_dev_11.2/lib/python3.8/site-packages/torch/nn/modules/module.py:1110\u001b[0m, in \u001b[0;36mModule._call_impl\u001b[0;34m(self, *input, **kwargs)\u001b[0m\n\u001b[1;32m   1106\u001b[0m \u001b[38;5;66;03m# If we don't have any hooks, we want to skip the rest of the logic in\u001b[39;00m\n\u001b[1;32m   1107\u001b[0m \u001b[38;5;66;03m# this function, and just call forward.\u001b[39;00m\n\u001b[1;32m   1108\u001b[0m \u001b[38;5;28;01mif\u001b[39;00m \u001b[38;5;129;01mnot\u001b[39;00m (\u001b[38;5;28mself\u001b[39m\u001b[38;5;241m.\u001b[39m_backward_hooks \u001b[38;5;129;01mor\u001b[39;00m \u001b[38;5;28mself\u001b[39m\u001b[38;5;241m.\u001b[39m_forward_hooks \u001b[38;5;129;01mor\u001b[39;00m \u001b[38;5;28mself\u001b[39m\u001b[38;5;241m.\u001b[39m_forward_pre_hooks \u001b[38;5;129;01mor\u001b[39;00m _global_backward_hooks\n\u001b[1;32m   1109\u001b[0m         \u001b[38;5;129;01mor\u001b[39;00m _global_forward_hooks \u001b[38;5;129;01mor\u001b[39;00m _global_forward_pre_hooks):\n\u001b[0;32m-> 1110\u001b[0m     \u001b[38;5;28;01mreturn\u001b[39;00m \u001b[43mforward_call\u001b[49m\u001b[43m(\u001b[49m\u001b[38;5;241;43m*\u001b[39;49m\u001b[38;5;28;43minput\u001b[39;49m\u001b[43m,\u001b[49m\u001b[43m \u001b[49m\u001b[38;5;241;43m*\u001b[39;49m\u001b[38;5;241;43m*\u001b[39;49m\u001b[43mkwargs\u001b[49m\u001b[43m)\u001b[49m\n\u001b[1;32m   1111\u001b[0m \u001b[38;5;66;03m# Do not call functions when jit is used\u001b[39;00m\n\u001b[1;32m   1112\u001b[0m full_backward_hooks, non_full_backward_hooks \u001b[38;5;241m=\u001b[39m [], []\n",
      "File \u001b[0;32m/opt/conda/envs/nvtabular_dev_11.2/lib/python3.8/site-packages/transformers/models/distilbert/modeling_distilbert.py:747\u001b[0m, in \u001b[0;36mDistilBertForSequenceClassification.forward\u001b[0;34m(self, input_ids, attention_mask, head_mask, inputs_embeds, labels, output_attentions, output_hidden_states, return_dict)\u001b[0m\n\u001b[1;32m    739\u001b[0m \u001b[38;5;124mr\u001b[39m\u001b[38;5;124;03m\"\"\"\u001b[39;00m\n\u001b[1;32m    740\u001b[0m \u001b[38;5;124;03mlabels (`torch.LongTensor` of shape `(batch_size,)`, *optional*):\u001b[39;00m\n\u001b[1;32m    741\u001b[0m \u001b[38;5;124;03m    Labels for computing the sequence classification/regression loss. Indices should be in `[0, ...,\u001b[39;00m\n\u001b[1;32m    742\u001b[0m \u001b[38;5;124;03m    config.num_labels - 1]`. If `config.num_labels == 1` a regression loss is computed (Mean-Square loss), If\u001b[39;00m\n\u001b[1;32m    743\u001b[0m \u001b[38;5;124;03m    `config.num_labels > 1` a classification loss is computed (Cross-Entropy).\u001b[39;00m\n\u001b[1;32m    744\u001b[0m \u001b[38;5;124;03m\"\"\"\u001b[39;00m\n\u001b[1;32m    745\u001b[0m return_dict \u001b[38;5;241m=\u001b[39m return_dict \u001b[38;5;28;01mif\u001b[39;00m return_dict \u001b[38;5;129;01mis\u001b[39;00m \u001b[38;5;129;01mnot\u001b[39;00m \u001b[38;5;28;01mNone\u001b[39;00m \u001b[38;5;28;01melse\u001b[39;00m \u001b[38;5;28mself\u001b[39m\u001b[38;5;241m.\u001b[39mconfig\u001b[38;5;241m.\u001b[39muse_return_dict\n\u001b[0;32m--> 747\u001b[0m distilbert_output \u001b[38;5;241m=\u001b[39m \u001b[38;5;28;43mself\u001b[39;49m\u001b[38;5;241;43m.\u001b[39;49m\u001b[43mdistilbert\u001b[49m\u001b[43m(\u001b[49m\n\u001b[1;32m    748\u001b[0m \u001b[43m    \u001b[49m\u001b[43minput_ids\u001b[49m\u001b[38;5;241;43m=\u001b[39;49m\u001b[43minput_ids\u001b[49m\u001b[43m,\u001b[49m\n\u001b[1;32m    749\u001b[0m \u001b[43m    \u001b[49m\u001b[43mattention_mask\u001b[49m\u001b[38;5;241;43m=\u001b[39;49m\u001b[43mattention_mask\u001b[49m\u001b[43m,\u001b[49m\n\u001b[1;32m    750\u001b[0m \u001b[43m    \u001b[49m\u001b[43mhead_mask\u001b[49m\u001b[38;5;241;43m=\u001b[39;49m\u001b[43mhead_mask\u001b[49m\u001b[43m,\u001b[49m\n\u001b[1;32m    751\u001b[0m \u001b[43m    \u001b[49m\u001b[43minputs_embeds\u001b[49m\u001b[38;5;241;43m=\u001b[39;49m\u001b[43minputs_embeds\u001b[49m\u001b[43m,\u001b[49m\n\u001b[1;32m    752\u001b[0m \u001b[43m    \u001b[49m\u001b[43moutput_attentions\u001b[49m\u001b[38;5;241;43m=\u001b[39;49m\u001b[43moutput_attentions\u001b[49m\u001b[43m,\u001b[49m\n\u001b[1;32m    753\u001b[0m \u001b[43m    \u001b[49m\u001b[43moutput_hidden_states\u001b[49m\u001b[38;5;241;43m=\u001b[39;49m\u001b[43moutput_hidden_states\u001b[49m\u001b[43m,\u001b[49m\n\u001b[1;32m    754\u001b[0m \u001b[43m    \u001b[49m\u001b[43mreturn_dict\u001b[49m\u001b[38;5;241;43m=\u001b[39;49m\u001b[43mreturn_dict\u001b[49m\u001b[43m,\u001b[49m\n\u001b[1;32m    755\u001b[0m \u001b[43m\u001b[49m\u001b[43m)\u001b[49m\n\u001b[1;32m    756\u001b[0m hidden_state \u001b[38;5;241m=\u001b[39m distilbert_output[\u001b[38;5;241m0\u001b[39m]  \u001b[38;5;66;03m# (bs, seq_len, dim)\u001b[39;00m\n\u001b[1;32m    757\u001b[0m pooled_output \u001b[38;5;241m=\u001b[39m hidden_state[:, \u001b[38;5;241m0\u001b[39m]  \u001b[38;5;66;03m# (bs, dim)\u001b[39;00m\n",
      "File \u001b[0;32m/opt/conda/envs/nvtabular_dev_11.2/lib/python3.8/site-packages/torch/nn/modules/module.py:1110\u001b[0m, in \u001b[0;36mModule._call_impl\u001b[0;34m(self, *input, **kwargs)\u001b[0m\n\u001b[1;32m   1106\u001b[0m \u001b[38;5;66;03m# If we don't have any hooks, we want to skip the rest of the logic in\u001b[39;00m\n\u001b[1;32m   1107\u001b[0m \u001b[38;5;66;03m# this function, and just call forward.\u001b[39;00m\n\u001b[1;32m   1108\u001b[0m \u001b[38;5;28;01mif\u001b[39;00m \u001b[38;5;129;01mnot\u001b[39;00m (\u001b[38;5;28mself\u001b[39m\u001b[38;5;241m.\u001b[39m_backward_hooks \u001b[38;5;129;01mor\u001b[39;00m \u001b[38;5;28mself\u001b[39m\u001b[38;5;241m.\u001b[39m_forward_hooks \u001b[38;5;129;01mor\u001b[39;00m \u001b[38;5;28mself\u001b[39m\u001b[38;5;241m.\u001b[39m_forward_pre_hooks \u001b[38;5;129;01mor\u001b[39;00m _global_backward_hooks\n\u001b[1;32m   1109\u001b[0m         \u001b[38;5;129;01mor\u001b[39;00m _global_forward_hooks \u001b[38;5;129;01mor\u001b[39;00m _global_forward_pre_hooks):\n\u001b[0;32m-> 1110\u001b[0m     \u001b[38;5;28;01mreturn\u001b[39;00m \u001b[43mforward_call\u001b[49m\u001b[43m(\u001b[49m\u001b[38;5;241;43m*\u001b[39;49m\u001b[38;5;28;43minput\u001b[39;49m\u001b[43m,\u001b[49m\u001b[43m \u001b[49m\u001b[38;5;241;43m*\u001b[39;49m\u001b[38;5;241;43m*\u001b[39;49m\u001b[43mkwargs\u001b[49m\u001b[43m)\u001b[49m\n\u001b[1;32m   1111\u001b[0m \u001b[38;5;66;03m# Do not call functions when jit is used\u001b[39;00m\n\u001b[1;32m   1112\u001b[0m full_backward_hooks, non_full_backward_hooks \u001b[38;5;241m=\u001b[39m [], []\n",
      "File \u001b[0;32m/opt/conda/envs/nvtabular_dev_11.2/lib/python3.8/site-packages/transformers/models/distilbert/modeling_distilbert.py:566\u001b[0m, in \u001b[0;36mDistilBertModel.forward\u001b[0;34m(self, input_ids, attention_mask, head_mask, inputs_embeds, output_attentions, output_hidden_states, return_dict)\u001b[0m\n\u001b[1;32m    563\u001b[0m head_mask \u001b[38;5;241m=\u001b[39m \u001b[38;5;28mself\u001b[39m\u001b[38;5;241m.\u001b[39mget_head_mask(head_mask, \u001b[38;5;28mself\u001b[39m\u001b[38;5;241m.\u001b[39mconfig\u001b[38;5;241m.\u001b[39mnum_hidden_layers)\n\u001b[1;32m    565\u001b[0m \u001b[38;5;28;01mif\u001b[39;00m inputs_embeds \u001b[38;5;129;01mis\u001b[39;00m \u001b[38;5;28;01mNone\u001b[39;00m:\n\u001b[0;32m--> 566\u001b[0m     inputs_embeds \u001b[38;5;241m=\u001b[39m \u001b[38;5;28;43mself\u001b[39;49m\u001b[38;5;241;43m.\u001b[39;49m\u001b[43membeddings\u001b[49m\u001b[43m(\u001b[49m\u001b[43minput_ids\u001b[49m\u001b[43m)\u001b[49m  \u001b[38;5;66;03m# (bs, seq_length, dim)\u001b[39;00m\n\u001b[1;32m    567\u001b[0m \u001b[38;5;28;01mreturn\u001b[39;00m \u001b[38;5;28mself\u001b[39m\u001b[38;5;241m.\u001b[39mtransformer(\n\u001b[1;32m    568\u001b[0m     x\u001b[38;5;241m=\u001b[39minputs_embeds,\n\u001b[1;32m    569\u001b[0m     attn_mask\u001b[38;5;241m=\u001b[39mattention_mask,\n\u001b[0;32m   (...)\u001b[0m\n\u001b[1;32m    573\u001b[0m     return_dict\u001b[38;5;241m=\u001b[39mreturn_dict,\n\u001b[1;32m    574\u001b[0m )\n",
      "File \u001b[0;32m/opt/conda/envs/nvtabular_dev_11.2/lib/python3.8/site-packages/torch/nn/modules/module.py:1110\u001b[0m, in \u001b[0;36mModule._call_impl\u001b[0;34m(self, *input, **kwargs)\u001b[0m\n\u001b[1;32m   1106\u001b[0m \u001b[38;5;66;03m# If we don't have any hooks, we want to skip the rest of the logic in\u001b[39;00m\n\u001b[1;32m   1107\u001b[0m \u001b[38;5;66;03m# this function, and just call forward.\u001b[39;00m\n\u001b[1;32m   1108\u001b[0m \u001b[38;5;28;01mif\u001b[39;00m \u001b[38;5;129;01mnot\u001b[39;00m (\u001b[38;5;28mself\u001b[39m\u001b[38;5;241m.\u001b[39m_backward_hooks \u001b[38;5;129;01mor\u001b[39;00m \u001b[38;5;28mself\u001b[39m\u001b[38;5;241m.\u001b[39m_forward_hooks \u001b[38;5;129;01mor\u001b[39;00m \u001b[38;5;28mself\u001b[39m\u001b[38;5;241m.\u001b[39m_forward_pre_hooks \u001b[38;5;129;01mor\u001b[39;00m _global_backward_hooks\n\u001b[1;32m   1109\u001b[0m         \u001b[38;5;129;01mor\u001b[39;00m _global_forward_hooks \u001b[38;5;129;01mor\u001b[39;00m _global_forward_pre_hooks):\n\u001b[0;32m-> 1110\u001b[0m     \u001b[38;5;28;01mreturn\u001b[39;00m \u001b[43mforward_call\u001b[49m\u001b[43m(\u001b[49m\u001b[38;5;241;43m*\u001b[39;49m\u001b[38;5;28;43minput\u001b[39;49m\u001b[43m,\u001b[49m\u001b[43m \u001b[49m\u001b[38;5;241;43m*\u001b[39;49m\u001b[38;5;241;43m*\u001b[39;49m\u001b[43mkwargs\u001b[49m\u001b[43m)\u001b[49m\n\u001b[1;32m   1111\u001b[0m \u001b[38;5;66;03m# Do not call functions when jit is used\u001b[39;00m\n\u001b[1;32m   1112\u001b[0m full_backward_hooks, non_full_backward_hooks \u001b[38;5;241m=\u001b[39m [], []\n",
      "File \u001b[0;32m/opt/conda/envs/nvtabular_dev_11.2/lib/python3.8/site-packages/transformers/models/distilbert/modeling_distilbert.py:132\u001b[0m, in \u001b[0;36mEmbeddings.forward\u001b[0;34m(self, input_ids)\u001b[0m\n\u001b[1;32m    129\u001b[0m word_embeddings \u001b[38;5;241m=\u001b[39m \u001b[38;5;28mself\u001b[39m\u001b[38;5;241m.\u001b[39mword_embeddings(input_ids)  \u001b[38;5;66;03m# (bs, max_seq_length, dim)\u001b[39;00m\n\u001b[1;32m    130\u001b[0m position_embeddings \u001b[38;5;241m=\u001b[39m \u001b[38;5;28mself\u001b[39m\u001b[38;5;241m.\u001b[39mposition_embeddings(position_ids)  \u001b[38;5;66;03m# (bs, max_seq_length, dim)\u001b[39;00m\n\u001b[0;32m--> 132\u001b[0m embeddings \u001b[38;5;241m=\u001b[39m \u001b[43mword_embeddings\u001b[49m\u001b[43m \u001b[49m\u001b[38;5;241;43m+\u001b[39;49m\u001b[43m \u001b[49m\u001b[43mposition_embeddings\u001b[49m  \u001b[38;5;66;03m# (bs, max_seq_length, dim)\u001b[39;00m\n\u001b[1;32m    133\u001b[0m embeddings \u001b[38;5;241m=\u001b[39m \u001b[38;5;28mself\u001b[39m\u001b[38;5;241m.\u001b[39mLayerNorm(embeddings)  \u001b[38;5;66;03m# (bs, max_seq_length, dim)\u001b[39;00m\n\u001b[1;32m    134\u001b[0m embeddings \u001b[38;5;241m=\u001b[39m \u001b[38;5;28mself\u001b[39m\u001b[38;5;241m.\u001b[39mdropout(embeddings)  \u001b[38;5;66;03m# (bs, max_seq_length, dim)\u001b[39;00m\n",
      "\u001b[0;31mRuntimeError\u001b[0m: The size of tensor a (545) must match the size of tensor b (512) at non-singleton dimension 1"
     ]
    }
   ],
   "source": [
    "sentiment_task(df_samp.iloc[306481,0])"
   ]
  },
  {
   "cell_type": "code",
   "execution_count": null,
   "id": "c46f5a6d-9c0d-4a99-be9d-bb81c6d76a50",
   "metadata": {},
   "outputs": [],
   "source": []
  }
 ],
 "metadata": {
  "environment": {
   "kernel": "conda-env-nvtabular_dev_11.2-py",
   "name": "common-cu110.m90",
   "type": "gcloud",
   "uri": "gcr.io/deeplearning-platform-release/base-cu110:m90"
  },
  "kernelspec": {
   "display_name": "Python [conda env:nvtabular_dev_11.2]",
   "language": "python",
   "name": "conda-env-nvtabular_dev_11.2-py"
  },
  "language_info": {
   "codemirror_mode": {
    "name": "ipython",
    "version": 3
   },
   "file_extension": ".py",
   "mimetype": "text/x-python",
   "name": "python",
   "nbconvert_exporter": "python",
   "pygments_lexer": "ipython3",
   "version": "3.8.12"
  }
 },
 "nbformat": 4,
 "nbformat_minor": 5
}
